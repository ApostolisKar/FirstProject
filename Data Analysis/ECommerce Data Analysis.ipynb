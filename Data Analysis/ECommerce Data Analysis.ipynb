{
 "cells": [
  {
   "cell_type": "code",
   "execution_count": 54,
   "id": "2c9e35e2",
   "metadata": {},
   "outputs": [],
   "source": [
    "import json\n",
    "import pandas as pd\n",
    "pd.set_option('display.max_columns', None)\n",
    "import numpy as np\n",
    "import matplotlib.pyplot as plt\n",
    "from datetime import datetime\n",
    "import seaborn as sns"
   ]
  },
  {
   "cell_type": "code",
   "execution_count": null,
   "id": "62c5a9b7",
   "metadata": {},
   "outputs": [],
   "source": [
    "# import data as DataFrames and check their properties"
   ]
  },
  {
   "cell_type": "code",
   "execution_count": 33,
   "id": "d0b26ff9",
   "metadata": {},
   "outputs": [],
   "source": [
    "fact_table = pd.read_csv('fact_table.csv')"
   ]
  },
  {
   "cell_type": "code",
   "execution_count": null,
   "id": "ac7e34a0",
   "metadata": {},
   "outputs": [],
   "source": [
    "fact_table.info()"
   ]
  },
  {
   "cell_type": "code",
   "execution_count": null,
   "id": "fc78f760",
   "metadata": {},
   "outputs": [],
   "source": [
    "fact_table.head()"
   ]
  },
  {
   "cell_type": "code",
   "execution_count": null,
   "id": "fd0af37f",
   "metadata": {},
   "outputs": [],
   "source": []
  },
  {
   "cell_type": "code",
   "execution_count": 18,
   "id": "b5251acb",
   "metadata": {},
   "outputs": [],
   "source": [
    "trans = pd.read_csv('Trans_dim.csv')"
   ]
  },
  {
   "cell_type": "code",
   "execution_count": null,
   "id": "d08525d9",
   "metadata": {},
   "outputs": [],
   "source": [
    "trans.head()"
   ]
  },
  {
   "cell_type": "code",
   "execution_count": null,
   "id": "77a61560",
   "metadata": {},
   "outputs": [],
   "source": []
  },
  {
   "cell_type": "code",
   "execution_count": 20,
   "id": "18565669",
   "metadata": {},
   "outputs": [],
   "source": [
    "time_dim = pd.read_csv('time_dim.csv')"
   ]
  },
  {
   "cell_type": "code",
   "execution_count": null,
   "id": "75a8b39e",
   "metadata": {},
   "outputs": [],
   "source": [
    "time_dim.head()"
   ]
  },
  {
   "cell_type": "code",
   "execution_count": null,
   "id": "bafb897c",
   "metadata": {},
   "outputs": [],
   "source": []
  },
  {
   "cell_type": "code",
   "execution_count": 24,
   "id": "b3f4f1d3",
   "metadata": {},
   "outputs": [],
   "source": [
    "store = pd.read_csv('store_dim.csv')"
   ]
  },
  {
   "cell_type": "code",
   "execution_count": null,
   "id": "b9c38c80",
   "metadata": {},
   "outputs": [],
   "source": [
    "store.head()"
   ]
  },
  {
   "cell_type": "code",
   "execution_count": null,
   "id": "7f421a5d",
   "metadata": {},
   "outputs": [],
   "source": []
  },
  {
   "cell_type": "code",
   "execution_count": 28,
   "id": "b4164ff9",
   "metadata": {},
   "outputs": [],
   "source": [
    "item = pd.read_csv('item_dim.csv', encoding='latin-1')"
   ]
  },
  {
   "cell_type": "code",
   "execution_count": null,
   "id": "cf8dd165",
   "metadata": {},
   "outputs": [],
   "source": [
    "item.head()"
   ]
  },
  {
   "cell_type": "code",
   "execution_count": null,
   "id": "5cf3b409",
   "metadata": {},
   "outputs": [],
   "source": []
  },
  {
   "cell_type": "code",
   "execution_count": 31,
   "id": "0f9d3997",
   "metadata": {},
   "outputs": [],
   "source": [
    "customer = pd.read_csv('customer_dim.csv', encoding='latin-1')"
   ]
  },
  {
   "cell_type": "code",
   "execution_count": null,
   "id": "b7b1f4ec",
   "metadata": {},
   "outputs": [],
   "source": [
    "customer.head()"
   ]
  },
  {
   "cell_type": "code",
   "execution_count": null,
   "id": "444cf380",
   "metadata": {},
   "outputs": [],
   "source": []
  },
  {
   "cell_type": "code",
   "execution_count": null,
   "id": "93a1ab93",
   "metadata": {},
   "outputs": [],
   "source": [
    "# merge tables with main (fact_table)"
   ]
  },
  {
   "cell_type": "code",
   "execution_count": 46,
   "id": "32725505",
   "metadata": {},
   "outputs": [],
   "source": [
    "df = pd.merge(fact_table, time_dim, how='inner')"
   ]
  },
  {
   "cell_type": "code",
   "execution_count": 47,
   "id": "c8b27e72",
   "metadata": {},
   "outputs": [],
   "source": [
    "df = pd.merge(df, trans, how='inner')"
   ]
  },
  {
   "cell_type": "code",
   "execution_count": 48,
   "id": "2ba9b56a",
   "metadata": {},
   "outputs": [],
   "source": [
    "df = pd.merge(df, store, how='inner')"
   ]
  },
  {
   "cell_type": "code",
   "execution_count": 49,
   "id": "2bfaf1e2",
   "metadata": {},
   "outputs": [],
   "source": [
    "df = pd.merge(df, item, how='inner')"
   ]
  },
  {
   "cell_type": "code",
   "execution_count": 50,
   "id": "187130f5",
   "metadata": {},
   "outputs": [],
   "source": [
    "df = pd.merge(df, customer, how='inner')"
   ]
  },
  {
   "cell_type": "code",
   "execution_count": null,
   "id": "e10eb330",
   "metadata": {},
   "outputs": [],
   "source": [
    "df.info()"
   ]
  },
  {
   "cell_type": "code",
   "execution_count": null,
   "id": "8ba07a21",
   "metadata": {},
   "outputs": [],
   "source": [
    "df.head()"
   ]
  },
  {
   "cell_type": "code",
   "execution_count": null,
   "id": "a15e5812",
   "metadata": {},
   "outputs": [],
   "source": []
  },
  {
   "cell_type": "code",
   "execution_count": null,
   "id": "703fade1",
   "metadata": {},
   "outputs": [],
   "source": [
    "# check if duplicate values"
   ]
  },
  {
   "cell_type": "code",
   "execution_count": 57,
   "id": "e539c90c",
   "metadata": {},
   "outputs": [],
   "source": [
    "df.drop_duplicates()"
   ]
  },
  {
   "cell_type": "code",
   "execution_count": null,
   "id": "b8e008f2",
   "metadata": {},
   "outputs": [],
   "source": [
    "# No duplicate values"
   ]
  },
  {
   "cell_type": "code",
   "execution_count": null,
   "id": "41b93d3d",
   "metadata": {},
   "outputs": [],
   "source": []
  },
  {
   "cell_type": "code",
   "execution_count": null,
   "id": "04b21b69",
   "metadata": {},
   "outputs": [],
   "source": [
    "# Convert columns types whenever necessary"
   ]
  },
  {
   "cell_type": "code",
   "execution_count": 69,
   "id": "49186d8c",
   "metadata": {},
   "outputs": [],
   "source": [
    "df['date'] = pd.to_datetime(df['date'])"
   ]
  },
  {
   "cell_type": "code",
   "execution_count": null,
   "id": "6a971dfd",
   "metadata": {},
   "outputs": [],
   "source": []
  },
  {
   "cell_type": "code",
   "execution_count": null,
   "id": "58827eb0",
   "metadata": {},
   "outputs": [],
   "source": [
    "# check for nulls"
   ]
  },
  {
   "cell_type": "code",
   "execution_count": null,
   "id": "78f846bd",
   "metadata": {},
   "outputs": [],
   "source": [
    "df.isnull().sum()"
   ]
  },
  {
   "cell_type": "code",
   "execution_count": null,
   "id": "09e10d55",
   "metadata": {},
   "outputs": [],
   "source": [
    "# Null values at columns 'unit' and 'name'. Null values at column 'item_name' we can convert by finding its description \n",
    "# by the corresponding 'item_key'. However 'name' is not important to convert because we also have 'customer_key' to separate \n",
    "# each customer. So we replace the Null values at column 'item_unit' and leave the 'name' column as it is."
   ]
  },
  {
   "cell_type": "code",
   "execution_count": null,
   "id": "82186311",
   "metadata": {},
   "outputs": [],
   "source": [
    "# Unit column"
   ]
  },
  {
   "cell_type": "code",
   "execution_count": null,
   "id": "52dafdc7",
   "metadata": {},
   "outputs": [],
   "source": [
    "df[df['unit'].isnull()].sort_values('item_key')"
   ]
  },
  {
   "cell_type": "code",
   "execution_count": null,
   "id": "14e66ed7",
   "metadata": {},
   "outputs": [],
   "source": [
    "item[item['item_key'] == 'I00158']"
   ]
  },
  {
   "cell_type": "code",
   "execution_count": 71,
   "id": "8c66e118",
   "metadata": {},
   "outputs": [],
   "source": [
    "df['unit'].fillna('Frito Bold Flavors Variety', inplace=True)"
   ]
  },
  {
   "cell_type": "code",
   "execution_count": 80,
   "id": "e9a5bd4e",
   "metadata": {},
   "outputs": [
    {
     "name": "stdout",
     "output_type": "stream",
     "text": [
      "<class 'pandas.core.frame.DataFrame'>\n",
      "Int64Index: 1000000 entries, 0 to 999999\n",
      "Data columns (total 28 columns):\n",
      " #   Column         Non-Null Count    Dtype         \n",
      "---  ------         --------------    -----         \n",
      " 0   payment_key    1000000 non-null  object        \n",
      " 1   coustomer_key  1000000 non-null  object        \n",
      " 2   time_key       1000000 non-null  object        \n",
      " 3   item_key       1000000 non-null  object        \n",
      " 4   store_key      1000000 non-null  object        \n",
      " 5   quantity       1000000 non-null  int64         \n",
      " 6   unit           1000000 non-null  object        \n",
      " 7   unit_price     1000000 non-null  float64       \n",
      " 8   total_price    1000000 non-null  float64       \n",
      " 9   date           1000000 non-null  datetime64[ns]\n",
      " 10  hour           1000000 non-null  int64         \n",
      " 11  day            1000000 non-null  int64         \n",
      " 12  week           1000000 non-null  object        \n",
      " 13  month          1000000 non-null  int64         \n",
      " 14  quarter        1000000 non-null  object        \n",
      " 15  year           1000000 non-null  int64         \n",
      " 16  trans_type     1000000 non-null  object        \n",
      " 17  bank_name      1000000 non-null  object        \n",
      " 18  division       1000000 non-null  object        \n",
      " 19  district       1000000 non-null  object        \n",
      " 20  upazila        1000000 non-null  object        \n",
      " 21  item_name      1000000 non-null  object        \n",
      " 22  desc           1000000 non-null  object        \n",
      " 23  man_country    1000000 non-null  object        \n",
      " 24  supplier       1000000 non-null  object        \n",
      " 25  name           997010 non-null   object        \n",
      " 26  contact_no     1000000 non-null  int64         \n",
      " 27  nid            1000000 non-null  int64         \n",
      "dtypes: datetime64[ns](1), float64(2), int64(7), object(18)\n",
      "memory usage: 221.3+ MB\n"
     ]
    }
   ],
   "source": [
    "df.info()"
   ]
  },
  {
   "cell_type": "code",
   "execution_count": 79,
   "id": "c226ad19",
   "metadata": {},
   "outputs": [
    {
     "data": {
      "text/html": [
       "<div>\n",
       "<style scoped>\n",
       "    .dataframe tbody tr th:only-of-type {\n",
       "        vertical-align: middle;\n",
       "    }\n",
       "\n",
       "    .dataframe tbody tr th {\n",
       "        vertical-align: top;\n",
       "    }\n",
       "\n",
       "    .dataframe thead th {\n",
       "        text-align: right;\n",
       "    }\n",
       "</style>\n",
       "<table border=\"1\" class=\"dataframe\">\n",
       "  <thead>\n",
       "    <tr style=\"text-align: right;\">\n",
       "      <th></th>\n",
       "      <th>payment_key</th>\n",
       "      <th>coustomer_key</th>\n",
       "      <th>time_key</th>\n",
       "      <th>item_key</th>\n",
       "      <th>store_key</th>\n",
       "      <th>quantity</th>\n",
       "      <th>unit</th>\n",
       "      <th>unit_price</th>\n",
       "      <th>total_price</th>\n",
       "      <th>date</th>\n",
       "      <th>hour</th>\n",
       "      <th>day</th>\n",
       "      <th>week</th>\n",
       "      <th>month</th>\n",
       "      <th>quarter</th>\n",
       "      <th>year</th>\n",
       "      <th>trans_type</th>\n",
       "      <th>bank_name</th>\n",
       "      <th>division</th>\n",
       "      <th>district</th>\n",
       "      <th>upazila</th>\n",
       "      <th>item_name</th>\n",
       "      <th>desc</th>\n",
       "      <th>man_country</th>\n",
       "      <th>supplier</th>\n",
       "      <th>name</th>\n",
       "      <th>contact_no</th>\n",
       "      <th>nid</th>\n",
       "    </tr>\n",
       "  </thead>\n",
       "  <tbody>\n",
       "    <tr>\n",
       "      <th>0</th>\n",
       "      <td>P026</td>\n",
       "      <td>C004510</td>\n",
       "      <td>T049189</td>\n",
       "      <td>I00177</td>\n",
       "      <td>S00307</td>\n",
       "      <td>1</td>\n",
       "      <td>ct</td>\n",
       "      <td>35.0</td>\n",
       "      <td>35.0</td>\n",
       "      <td>2016-04-26 17:13:00</td>\n",
       "      <td>17</td>\n",
       "      <td>26</td>\n",
       "      <td>4th Week</td>\n",
       "      <td>4</td>\n",
       "      <td>Q2</td>\n",
       "      <td>2016</td>\n",
       "      <td>card</td>\n",
       "      <td>Premier Bank Limited</td>\n",
       "      <td>DHAKA</td>\n",
       "      <td>JAMALPUR</td>\n",
       "      <td>ISLAMPUR</td>\n",
       "      <td>M&amp;M Peanut Candy 1.7 oz</td>\n",
       "      <td>Food - Chocolate</td>\n",
       "      <td>Netherlands</td>\n",
       "      <td>Bolsius Boxmeer</td>\n",
       "      <td>priya</td>\n",
       "      <td>8801529462805</td>\n",
       "      <td>4543429591184</td>\n",
       "    </tr>\n",
       "    <tr>\n",
       "      <th>1</th>\n",
       "      <td>P001</td>\n",
       "      <td>C004510</td>\n",
       "      <td>T082988</td>\n",
       "      <td>I00062</td>\n",
       "      <td>S00428</td>\n",
       "      <td>11</td>\n",
       "      <td>cans</td>\n",
       "      <td>37.0</td>\n",
       "      <td>407.0</td>\n",
       "      <td>2018-11-05 07:18:00</td>\n",
       "      <td>7</td>\n",
       "      <td>11</td>\n",
       "      <td>2nd Week</td>\n",
       "      <td>5</td>\n",
       "      <td>Q2</td>\n",
       "      <td>2018</td>\n",
       "      <td>cash</td>\n",
       "      <td>None</td>\n",
       "      <td>CHITTAGONG</td>\n",
       "      <td>CHITTAGONG</td>\n",
       "      <td>ANOWARA</td>\n",
       "      <td>Red Bull 16oz</td>\n",
       "      <td>Beverage - Energy/Protein</td>\n",
       "      <td>Bangladesh</td>\n",
       "      <td>DENIMACH LTD</td>\n",
       "      <td>priya</td>\n",
       "      <td>8801529462805</td>\n",
       "      <td>4543429591184</td>\n",
       "    </tr>\n",
       "    <tr>\n",
       "      <th>2</th>\n",
       "      <td>P018</td>\n",
       "      <td>C004510</td>\n",
       "      <td>T074754</td>\n",
       "      <td>I00196</td>\n",
       "      <td>S00378</td>\n",
       "      <td>8</td>\n",
       "      <td>ct</td>\n",
       "      <td>16.0</td>\n",
       "      <td>128.0</td>\n",
       "      <td>2015-11-29 10:19:00</td>\n",
       "      <td>10</td>\n",
       "      <td>29</td>\n",
       "      <td>4th Week</td>\n",
       "      <td>11</td>\n",
       "      <td>Q4</td>\n",
       "      <td>2015</td>\n",
       "      <td>card</td>\n",
       "      <td>Mutual Trust Bank Limited</td>\n",
       "      <td>DHAKA</td>\n",
       "      <td>RAJBARI</td>\n",
       "      <td>KALUKHALI</td>\n",
       "      <td>Fiber One 90 Calorie Fudge Brownies</td>\n",
       "      <td>Food - Healthy</td>\n",
       "      <td>poland</td>\n",
       "      <td>CHROMADURLIN S.A.S</td>\n",
       "      <td>priya</td>\n",
       "      <td>8801529462805</td>\n",
       "      <td>4543429591184</td>\n",
       "    </tr>\n",
       "    <tr>\n",
       "      <th>3</th>\n",
       "      <td>P011</td>\n",
       "      <td>C004510</td>\n",
       "      <td>T06276</td>\n",
       "      <td>I00223</td>\n",
       "      <td>S00367</td>\n",
       "      <td>8</td>\n",
       "      <td>ct</td>\n",
       "      <td>13.5</td>\n",
       "      <td>108.0</td>\n",
       "      <td>2016-11-10 23:06:00</td>\n",
       "      <td>23</td>\n",
       "      <td>11</td>\n",
       "      <td>2nd Week</td>\n",
       "      <td>10</td>\n",
       "      <td>Q4</td>\n",
       "      <td>2016</td>\n",
       "      <td>card</td>\n",
       "      <td>Eastern Bank Limited</td>\n",
       "      <td>DHAKA</td>\n",
       "      <td>NETRAKONA</td>\n",
       "      <td>BARHATTA</td>\n",
       "      <td>Lance Variety Cracker Packs</td>\n",
       "      <td>Food - Snacks</td>\n",
       "      <td>Bangladesh</td>\n",
       "      <td>DENIMACH LTD</td>\n",
       "      <td>priya</td>\n",
       "      <td>8801529462805</td>\n",
       "      <td>4543429591184</td>\n",
       "    </tr>\n",
       "    <tr>\n",
       "      <th>4</th>\n",
       "      <td>P034</td>\n",
       "      <td>C004510</td>\n",
       "      <td>T08402</td>\n",
       "      <td>I00229</td>\n",
       "      <td>S00535</td>\n",
       "      <td>9</td>\n",
       "      <td>ct</td>\n",
       "      <td>13.0</td>\n",
       "      <td>117.0</td>\n",
       "      <td>2017-10-17 23:17:00</td>\n",
       "      <td>23</td>\n",
       "      <td>17</td>\n",
       "      <td>3rd Week</td>\n",
       "      <td>10</td>\n",
       "      <td>Q4</td>\n",
       "      <td>2017</td>\n",
       "      <td>card</td>\n",
       "      <td>United Commercial Bank Ltd</td>\n",
       "      <td>BARISAL</td>\n",
       "      <td>BHOLA</td>\n",
       "      <td>LALMOHAN</td>\n",
       "      <td>Kellogg's Cereals Assortment Pack</td>\n",
       "      <td>Food - Sweets</td>\n",
       "      <td>Germany</td>\n",
       "      <td>Friedola 1888 GmbH</td>\n",
       "      <td>priya</td>\n",
       "      <td>8801529462805</td>\n",
       "      <td>4543429591184</td>\n",
       "    </tr>\n",
       "  </tbody>\n",
       "</table>\n",
       "</div>"
      ],
      "text/plain": [
       "  payment_key coustomer_key time_key item_key store_key  quantity  unit  \\\n",
       "0        P026       C004510  T049189   I00177    S00307         1    ct   \n",
       "1        P001       C004510  T082988   I00062    S00428        11  cans   \n",
       "2        P018       C004510  T074754   I00196    S00378         8    ct   \n",
       "3        P011       C004510   T06276   I00223    S00367         8    ct   \n",
       "4        P034       C004510   T08402   I00229    S00535         9    ct   \n",
       "\n",
       "   unit_price  total_price                date  hour  day      week  month  \\\n",
       "0        35.0         35.0 2016-04-26 17:13:00    17   26  4th Week      4   \n",
       "1        37.0        407.0 2018-11-05 07:18:00     7   11  2nd Week      5   \n",
       "2        16.0        128.0 2015-11-29 10:19:00    10   29  4th Week     11   \n",
       "3        13.5        108.0 2016-11-10 23:06:00    23   11  2nd Week     10   \n",
       "4        13.0        117.0 2017-10-17 23:17:00    23   17  3rd Week     10   \n",
       "\n",
       "  quarter  year trans_type                   bank_name    division  \\\n",
       "0      Q2  2016       card        Premier Bank Limited       DHAKA   \n",
       "1      Q2  2018       cash                        None  CHITTAGONG   \n",
       "2      Q4  2015       card   Mutual Trust Bank Limited       DHAKA   \n",
       "3      Q4  2016       card        Eastern Bank Limited       DHAKA   \n",
       "4      Q4  2017       card  United Commercial Bank Ltd     BARISAL   \n",
       "\n",
       "     district    upazila                            item_name  \\\n",
       "0    JAMALPUR   ISLAMPUR              M&M Peanut Candy 1.7 oz   \n",
       "1  CHITTAGONG    ANOWARA                        Red Bull 16oz   \n",
       "2     RAJBARI  KALUKHALI  Fiber One 90 Calorie Fudge Brownies   \n",
       "3   NETRAKONA   BARHATTA         Lance Variety Cracker Packs    \n",
       "4       BHOLA   LALMOHAN   Kellogg's Cereals Assortment Pack    \n",
       "\n",
       "                        desc  man_country            supplier   name  \\\n",
       "0           Food - Chocolate  Netherlands     Bolsius Boxmeer  priya   \n",
       "1  Beverage - Energy/Protein   Bangladesh        DENIMACH LTD  priya   \n",
       "2             Food - Healthy       poland  CHROMADURLIN S.A.S  priya   \n",
       "3              Food - Snacks   Bangladesh        DENIMACH LTD  priya   \n",
       "4              Food - Sweets      Germany  Friedola 1888 GmbH  priya   \n",
       "\n",
       "      contact_no            nid  \n",
       "0  8801529462805  4543429591184  \n",
       "1  8801529462805  4543429591184  \n",
       "2  8801529462805  4543429591184  \n",
       "3  8801529462805  4543429591184  \n",
       "4  8801529462805  4543429591184  "
      ]
     },
     "execution_count": 79,
     "metadata": {},
     "output_type": "execute_result"
    }
   ],
   "source": [
    "df.head()"
   ]
  },
  {
   "cell_type": "code",
   "execution_count": null,
   "id": "e9f56a39",
   "metadata": {},
   "outputs": [],
   "source": []
  },
  {
   "cell_type": "code",
   "execution_count": null,
   "id": "daca34b4",
   "metadata": {},
   "outputs": [],
   "source": [
    "# Top customers"
   ]
  },
  {
   "cell_type": "code",
   "execution_count": null,
   "id": "5409e65b",
   "metadata": {},
   "outputs": [],
   "source": [
    "# Check each customer's contribution regarding the total revenue of the buisiness"
   ]
  },
  {
   "cell_type": "code",
   "execution_count": 289,
   "id": "1bcd13ae",
   "metadata": {},
   "outputs": [],
   "source": [
    "customers = df[['coustomer_key', 'item_name','desc', 'unit', 'quantity', 'unit_price', 'total_price', 'division', 'district']]"
   ]
  },
  {
   "cell_type": "code",
   "execution_count": 290,
   "id": "d8fe3518",
   "metadata": {},
   "outputs": [],
   "source": [
    "top_customers = customers.groupby(['coustomer_key', 'division', 'district'])['total_price'].sum().sort_values(ascending=False).reset_index()"
   ]
  },
  {
   "cell_type": "code",
   "execution_count": 295,
   "id": "42ea689d",
   "metadata": {},
   "outputs": [],
   "source": [
    "top_customers['%'] = ((top_customers['total_price']/ top_customers['total_price'].sum())*100).round(5)"
   ]
  },
  {
   "cell_type": "code",
   "execution_count": 299,
   "id": "8e8e98d1",
   "metadata": {},
   "outputs": [
    {
     "data": {
      "text/html": [
       "<div>\n",
       "<style scoped>\n",
       "    .dataframe tbody tr th:only-of-type {\n",
       "        vertical-align: middle;\n",
       "    }\n",
       "\n",
       "    .dataframe tbody tr th {\n",
       "        vertical-align: top;\n",
       "    }\n",
       "\n",
       "    .dataframe thead th {\n",
       "        text-align: right;\n",
       "    }\n",
       "</style>\n",
       "<table border=\"1\" class=\"dataframe\">\n",
       "  <thead>\n",
       "    <tr style=\"text-align: right;\">\n",
       "      <th></th>\n",
       "      <th>coustomer_key</th>\n",
       "      <th>division</th>\n",
       "      <th>district</th>\n",
       "      <th>total_price</th>\n",
       "      <th>%</th>\n",
       "    </tr>\n",
       "  </thead>\n",
       "  <tbody>\n",
       "    <tr>\n",
       "      <th>0</th>\n",
       "      <td>C006691</td>\n",
       "      <td>DHAKA</td>\n",
       "      <td>DHAKA</td>\n",
       "      <td>5440.50</td>\n",
       "      <td>0.00516</td>\n",
       "    </tr>\n",
       "    <tr>\n",
       "      <th>1</th>\n",
       "      <td>C004222</td>\n",
       "      <td>DHAKA</td>\n",
       "      <td>DHAKA</td>\n",
       "      <td>5269.75</td>\n",
       "      <td>0.00500</td>\n",
       "    </tr>\n",
       "    <tr>\n",
       "      <th>2</th>\n",
       "      <td>C002859</td>\n",
       "      <td>DHAKA</td>\n",
       "      <td>DHAKA</td>\n",
       "      <td>5190.25</td>\n",
       "      <td>0.00492</td>\n",
       "    </tr>\n",
       "    <tr>\n",
       "      <th>3</th>\n",
       "      <td>C000758</td>\n",
       "      <td>DHAKA</td>\n",
       "      <td>DHAKA</td>\n",
       "      <td>5166.25</td>\n",
       "      <td>0.00490</td>\n",
       "    </tr>\n",
       "    <tr>\n",
       "      <th>4</th>\n",
       "      <td>C002919</td>\n",
       "      <td>DHAKA</td>\n",
       "      <td>DHAKA</td>\n",
       "      <td>5156.25</td>\n",
       "      <td>0.00489</td>\n",
       "    </tr>\n",
       "    <tr>\n",
       "      <th>5</th>\n",
       "      <td>C008213</td>\n",
       "      <td>DHAKA</td>\n",
       "      <td>DHAKA</td>\n",
       "      <td>5039.50</td>\n",
       "      <td>0.00478</td>\n",
       "    </tr>\n",
       "    <tr>\n",
       "      <th>6</th>\n",
       "      <td>C001289</td>\n",
       "      <td>DHAKA</td>\n",
       "      <td>DHAKA</td>\n",
       "      <td>4975.25</td>\n",
       "      <td>0.00472</td>\n",
       "    </tr>\n",
       "    <tr>\n",
       "      <th>7</th>\n",
       "      <td>C007924</td>\n",
       "      <td>DHAKA</td>\n",
       "      <td>DHAKA</td>\n",
       "      <td>4973.25</td>\n",
       "      <td>0.00472</td>\n",
       "    </tr>\n",
       "    <tr>\n",
       "      <th>8</th>\n",
       "      <td>C008607</td>\n",
       "      <td>DHAKA</td>\n",
       "      <td>DHAKA</td>\n",
       "      <td>4970.25</td>\n",
       "      <td>0.00472</td>\n",
       "    </tr>\n",
       "    <tr>\n",
       "      <th>9</th>\n",
       "      <td>C006300</td>\n",
       "      <td>DHAKA</td>\n",
       "      <td>DHAKA</td>\n",
       "      <td>4965.25</td>\n",
       "      <td>0.00471</td>\n",
       "    </tr>\n",
       "    <tr>\n",
       "      <th>10</th>\n",
       "      <td>C005376</td>\n",
       "      <td>DHAKA</td>\n",
       "      <td>DHAKA</td>\n",
       "      <td>4955.50</td>\n",
       "      <td>0.00470</td>\n",
       "    </tr>\n",
       "    <tr>\n",
       "      <th>11</th>\n",
       "      <td>C003095</td>\n",
       "      <td>DHAKA</td>\n",
       "      <td>DHAKA</td>\n",
       "      <td>4953.50</td>\n",
       "      <td>0.00470</td>\n",
       "    </tr>\n",
       "    <tr>\n",
       "      <th>12</th>\n",
       "      <td>C003495</td>\n",
       "      <td>DHAKA</td>\n",
       "      <td>DHAKA</td>\n",
       "      <td>4944.00</td>\n",
       "      <td>0.00469</td>\n",
       "    </tr>\n",
       "    <tr>\n",
       "      <th>13</th>\n",
       "      <td>C008009</td>\n",
       "      <td>DHAKA</td>\n",
       "      <td>DHAKA</td>\n",
       "      <td>4942.25</td>\n",
       "      <td>0.00469</td>\n",
       "    </tr>\n",
       "    <tr>\n",
       "      <th>14</th>\n",
       "      <td>C001391</td>\n",
       "      <td>DHAKA</td>\n",
       "      <td>DHAKA</td>\n",
       "      <td>4929.50</td>\n",
       "      <td>0.00468</td>\n",
       "    </tr>\n",
       "    <tr>\n",
       "      <th>15</th>\n",
       "      <td>C006059</td>\n",
       "      <td>DHAKA</td>\n",
       "      <td>DHAKA</td>\n",
       "      <td>4920.25</td>\n",
       "      <td>0.00467</td>\n",
       "    </tr>\n",
       "    <tr>\n",
       "      <th>16</th>\n",
       "      <td>C002991</td>\n",
       "      <td>DHAKA</td>\n",
       "      <td>DHAKA</td>\n",
       "      <td>4914.25</td>\n",
       "      <td>0.00466</td>\n",
       "    </tr>\n",
       "    <tr>\n",
       "      <th>17</th>\n",
       "      <td>C000989</td>\n",
       "      <td>DHAKA</td>\n",
       "      <td>DHAKA</td>\n",
       "      <td>4905.75</td>\n",
       "      <td>0.00465</td>\n",
       "    </tr>\n",
       "    <tr>\n",
       "      <th>18</th>\n",
       "      <td>C008772</td>\n",
       "      <td>DHAKA</td>\n",
       "      <td>DHAKA</td>\n",
       "      <td>4863.75</td>\n",
       "      <td>0.00461</td>\n",
       "    </tr>\n",
       "    <tr>\n",
       "      <th>19</th>\n",
       "      <td>C008814</td>\n",
       "      <td>DHAKA</td>\n",
       "      <td>DHAKA</td>\n",
       "      <td>4844.75</td>\n",
       "      <td>0.00460</td>\n",
       "    </tr>\n",
       "  </tbody>\n",
       "</table>\n",
       "</div>"
      ],
      "text/plain": [
       "   coustomer_key division district  total_price        %\n",
       "0        C006691    DHAKA    DHAKA      5440.50  0.00516\n",
       "1        C004222    DHAKA    DHAKA      5269.75  0.00500\n",
       "2        C002859    DHAKA    DHAKA      5190.25  0.00492\n",
       "3        C000758    DHAKA    DHAKA      5166.25  0.00490\n",
       "4        C002919    DHAKA    DHAKA      5156.25  0.00489\n",
       "5        C008213    DHAKA    DHAKA      5039.50  0.00478\n",
       "6        C001289    DHAKA    DHAKA      4975.25  0.00472\n",
       "7        C007924    DHAKA    DHAKA      4973.25  0.00472\n",
       "8        C008607    DHAKA    DHAKA      4970.25  0.00472\n",
       "9        C006300    DHAKA    DHAKA      4965.25  0.00471\n",
       "10       C005376    DHAKA    DHAKA      4955.50  0.00470\n",
       "11       C003095    DHAKA    DHAKA      4953.50  0.00470\n",
       "12       C003495    DHAKA    DHAKA      4944.00  0.00469\n",
       "13       C008009    DHAKA    DHAKA      4942.25  0.00469\n",
       "14       C001391    DHAKA    DHAKA      4929.50  0.00468\n",
       "15       C006059    DHAKA    DHAKA      4920.25  0.00467\n",
       "16       C002991    DHAKA    DHAKA      4914.25  0.00466\n",
       "17       C000989    DHAKA    DHAKA      4905.75  0.00465\n",
       "18       C008772    DHAKA    DHAKA      4863.75  0.00461\n",
       "19       C008814    DHAKA    DHAKA      4844.75  0.00460"
      ]
     },
     "execution_count": 299,
     "metadata": {},
     "output_type": "execute_result"
    }
   ],
   "source": [
    "top_customers.head(20)"
   ]
  },
  {
   "cell_type": "code",
   "execution_count": null,
   "id": "35cf4329",
   "metadata": {},
   "outputs": [],
   "source": [
    "# Not any particular partterns from customer behaviour. Each of them has a small percentage at the overall sales. However top 20\n",
    "# shows that consists of customers coming from Dhaka (country's capital), so that can be examined further."
   ]
  },
  {
   "cell_type": "code",
   "execution_count": null,
   "id": "b11e66ce",
   "metadata": {},
   "outputs": [],
   "source": []
  },
  {
   "cell_type": "code",
   "execution_count": null,
   "id": "cbb09d2e",
   "metadata": {},
   "outputs": [],
   "source": [
    "# Top selling products"
   ]
  },
  {
   "cell_type": "code",
   "execution_count": null,
   "id": "35493424",
   "metadata": {},
   "outputs": [],
   "source": [
    "# Check for patterns in product categories. What catergories sell the most items and which of the has the top revenue. Do these \n",
    "# 2 match? If so, waht can be deduced"
   ]
  },
  {
   "cell_type": "code",
   "execution_count": null,
   "id": "88c873ed",
   "metadata": {},
   "outputs": [],
   "source": []
  },
  {
   "cell_type": "code",
   "execution_count": 84,
   "id": "8d05de83",
   "metadata": {},
   "outputs": [],
   "source": [
    "products = df[['item_name','desc', 'unit', 'quantity', 'unit_price', 'total_price']]"
   ]
  },
  {
   "cell_type": "code",
   "execution_count": null,
   "id": "31bbbd47",
   "metadata": {},
   "outputs": [],
   "source": [
    "products.head()"
   ]
  },
  {
   "cell_type": "code",
   "execution_count": 96,
   "id": "ed07bf8a",
   "metadata": {},
   "outputs": [],
   "source": [
    "top_pr = products.groupby(['item_name', 'desc'])['quantity'].sum().sort_values(ascending=False).reset_index()"
   ]
  },
  {
   "cell_type": "code",
   "execution_count": null,
   "id": "2c344fa8",
   "metadata": {},
   "outputs": [],
   "source": [
    "top_pr.head(10)"
   ]
  },
  {
   "cell_type": "code",
   "execution_count": 102,
   "id": "5511d5bd",
   "metadata": {},
   "outputs": [
    {
     "data": {
      "image/png": "[encoded data removed]",
      "text/plain": [
       "<Figure size 600x400 with 1 Axes>"
      ]
     },
     "metadata": {},
     "output_type": "display_data"
    }
   ],
   "source": [
    "plt.figure(figsize=(6,4))\n",
    "\n",
    "x = top_pr['quantity'].head(10)\n",
    "y = top_pr['item_name'].head(10)\n",
    "\n",
    "plt.barh(y,x, color='steelblue')\n",
    "plt.xlabel('Total items sold')\n",
    "plt.ylabel('Item Description')\n",
    "plt.gca().invert_yaxis()\n",
    "plt.title('Top selling products based on quantity sold')\n",
    "plt.show()"
   ]
  },
  {
   "cell_type": "code",
   "execution_count": 98,
   "id": "ce560a25",
   "metadata": {},
   "outputs": [],
   "source": [
    "top_pr_inc = products.groupby(['item_name', 'desc'])['total_price'].sum().sort_values(ascending=False).reset_index()"
   ]
  },
  {
   "cell_type": "code",
   "execution_count": null,
   "id": "8ff50f7e",
   "metadata": {},
   "outputs": [],
   "source": [
    "top_pr_inc.head(10)"
   ]
  },
  {
   "cell_type": "code",
   "execution_count": 105,
   "id": "cec10f8b",
   "metadata": {},
   "outputs": [
    {
     "name": "stderr",
     "output_type": "stream",
     "text": [
      "C:\\Users\\Apostolis Karapatis\\miniconda3\\lib\\site-packages\\IPython\\core\\pylabtools.py:152: UserWarning: Glyph 150 (\\x96) missing from font(s) DejaVu Sans.\n",
      "  fig.canvas.print_figure(bytes_io, **kw)\n"
     ]
    },
    {
     "data": {
      "image/png": "[encoded data removed]",
      "text/plain": [
       "<Figure size 600x400 with 1 Axes>"
      ]
     },
     "metadata": {},
     "output_type": "display_data"
    }
   ],
   "source": [
    "plt.figure(figsize=(6,4))\n",
    "\n",
    "x = top_pr_inc['total_price'].head(10)\n",
    "y = top_pr_inc['item_name'].head(10)\n",
    "\n",
    "plt.barh(y,x, color='firebrick')\n",
    "plt.xlabel('Total income')\n",
    "plt.ylabel('Item Description')\n",
    "plt.gca().invert_yaxis()\n",
    "plt.title('Top selling products based on revenue')\n",
    "plt.show()"
   ]
  },
  {
   "cell_type": "code",
   "execution_count": 108,
   "id": "3c1ea5bf",
   "metadata": {},
   "outputs": [],
   "source": [
    "top_cat_pr = products.groupby(['desc'])['total_price'].sum().sort_values(ascending=False).reset_index()"
   ]
  },
  {
   "cell_type": "code",
   "execution_count": null,
   "id": "71169f50",
   "metadata": {},
   "outputs": [],
   "source": [
    "top_cat_pr.head(10)"
   ]
  },
  {
   "cell_type": "code",
   "execution_count": 301,
   "id": "990cc024",
   "metadata": {},
   "outputs": [
    {
     "data": {
      "image/png": "[encoded data removed]",
      "text/plain": [
       "<Figure size 600x400 with 1 Axes>"
      ]
     },
     "metadata": {},
     "output_type": "display_data"
    }
   ],
   "source": [
    "plt.figure(figsize=(6,4))\n",
    "\n",
    "x = top_cat_pr['total_price'].head(10)\n",
    "y = top_cat_pr['desc'].head(10)\n",
    "\n",
    "plt.barh(y,x)\n",
    "plt.xlabel('Total income (M)'\n",
    "plt.ylabel('Product Categories')\n",
    "plt.gca().invert_yaxis()\n",
    "plt.title('Top selling categories based on revenue')\n",
    "plt.show()"
   ]
  },
  {
   "cell_type": "code",
   "execution_count": 111,
   "id": "c8f78088",
   "metadata": {},
   "outputs": [],
   "source": [
    "top_cat_qnt = products.groupby('desc')['quantity'].sum().sort_values(ascending=False).reset_index()"
   ]
  },
  {
   "cell_type": "code",
   "execution_count": 302,
   "id": "67e41fde",
   "metadata": {},
   "outputs": [
    {
     "data": {
      "image/png": "[encoded data removed]",
      "text/plain": [
       "<Figure size 600x400 with 1 Axes>"
      ]
     },
     "metadata": {},
     "output_type": "display_data"
    }
   ],
   "source": [
    "plt.figure(figsize=(6,4))\n",
    "\n",
    "x = top_cat_qnt['quantity'].head(10)\n",
    "y = top_cat_qnt['desc'].head(10)\n",
    "\n",
    "plt.barh(y,x)\n",
    "plt.xlabel('Total items sold')\n",
    "plt.ylabel('Product Categories')\n",
    "plt.gca().invert_yaxis()\n",
    "plt.title('Top selling categories based on qnt sold')\n",
    "plt.show()"
   ]
  },
  {
   "cell_type": "code",
   "execution_count": null,
   "id": "8eb8ec30",
   "metadata": {},
   "outputs": [],
   "source": [
    "# Note: df1 is just as a safe meassure not to mess with the initial df"
   ]
  },
  {
   "cell_type": "code",
   "execution_count": null,
   "id": "3695fa2a",
   "metadata": {},
   "outputs": [],
   "source": [
    "df1 = df.copy()"
   ]
  },
  {
   "cell_type": "code",
   "execution_count": null,
   "id": "c2f7c082",
   "metadata": {},
   "outputs": [],
   "source": [
    "def categorize_description(description):\n",
    "    if pd.isna(description):\n",
    "        return 'Other'\n",
    "    description = description.lower()\n",
    "    if 'food' in description:\n",
    "        return 'Food'\n",
    "    elif 'coffee' in description:\n",
    "        return 'Coffee'\n",
    "    elif 'beverage' in description:\n",
    "        return 'Beverage'\n",
    "    elif 'dishware' in description:\n",
    "        return 'Dishware'\n",
    "    else:\n",
    "        return description\n",
    "\n",
    "\n",
    "df1['categories'] = df1['desc'].apply(categorize_description)\n",
    "\n",
    "\n",
    "df1"
   ]
  },
  {
   "cell_type": "code",
   "execution_count": null,
   "id": "436b47de",
   "metadata": {},
   "outputs": [],
   "source": [
    "categ = df1.groupby('categories')['total_price'].sum().sort_values(ascending=False).reset_index()"
   ]
  },
  {
   "cell_type": "code",
   "execution_count": null,
   "id": "4ea099d3",
   "metadata": {},
   "outputs": [],
   "source": [
    "categ"
   ]
  },
  {
   "cell_type": "code",
   "execution_count": 340,
   "id": "02a91c54",
   "metadata": {},
   "outputs": [
    {
     "data": {
      "image/png": "[encoded data removed]",
      "text/plain": [
       "<Figure size 600x400 with 1 Axes>"
      ]
     },
     "metadata": {},
     "output_type": "display_data"
    }
   ],
   "source": [
    "plt.figure(figsize=(6,4))\n",
    "\n",
    "x = categ['total_price'].head(10)\n",
    "y = categ['categories'].head(10)\n",
    "\n",
    "plt.barh(y,x)\n",
    "plt.xlabel('Total income (M)')\n",
    "plt.ylabel('Product Categories')\n",
    "plt.gca().invert_yaxis()\n",
    "plt.title('Top selling categories based on revenue')\n",
    "plt.show()"
   ]
  },
  {
   "cell_type": "code",
   "execution_count": null,
   "id": "543bcc53",
   "metadata": {},
   "outputs": [],
   "source": [
    "categ_qnt = df1.groupby('categories')['quantity'].sum().sort_values(ascending=False).reset_index()"
   ]
  },
  {
   "cell_type": "code",
   "execution_count": null,
   "id": "532cd236",
   "metadata": {},
   "outputs": [],
   "source": [
    "categ_qnt"
   ]
  },
  {
   "cell_type": "code",
   "execution_count": 341,
   "id": "47c0075e",
   "metadata": {},
   "outputs": [
    {
     "data": {
      "image/png": "[encoded data removed]",
      "text/plain": [
       "<Figure size 600x400 with 1 Axes>"
      ]
     },
     "metadata": {},
     "output_type": "display_data"
    }
   ],
   "source": [
    "plt.figure(figsize=(6,4))\n",
    "\n",
    "x = categ_qnt['quantity'].head(10)\n",
    "y = categ_qnt['categories'].head(10)\n",
    "\n",
    "plt.barh(y,x)\n",
    "plt.xlabel('Total Quantity (M)')\n",
    "plt.ylabel('Product Categories')\n",
    "plt.gca().invert_yaxis()\n",
    "plt.title('Top selling categories based on quantity sold')\n",
    "plt.show()"
   ]
  },
  {
   "cell_type": "code",
   "execution_count": null,
   "id": "fddfcf53",
   "metadata": {},
   "outputs": [],
   "source": [
    "# Graphs about top selling items and their categories is incoclusive. We cannot deduce something just from these two. Interesting\n",
    "# are the charts about product categories. Seems that product sales are stable regarding their different categories. There are no\n",
    "# differences between products that sell the most and product categories that make the most revenue. This can be a nice \n",
    "# criteria to for inventory optimization and safety stock keeping for the products in top 3 categories, so that we never run out\n",
    "# and create a gap in the market that a competitor can exploit"
   ]
  },
  {
   "cell_type": "code",
   "execution_count": null,
   "id": "f0c1cbd6",
   "metadata": {},
   "outputs": [],
   "source": []
  },
  {
   "cell_type": "code",
   "execution_count": null,
   "id": "0f721301",
   "metadata": {},
   "outputs": [],
   "source": [
    "# High selling regions"
   ]
  },
  {
   "cell_type": "code",
   "execution_count": null,
   "id": "749b6574",
   "metadata": {},
   "outputs": [],
   "source": [
    "# Check for patterns in sales revenue regarding customers' place of residence"
   ]
  },
  {
   "cell_type": "code",
   "execution_count": 113,
   "id": "0625ffaf",
   "metadata": {},
   "outputs": [],
   "source": [
    "regions = df[['item_name','desc', 'quantity', 'unit_price', 'total_price', 'division', 'district', 'upazila']]"
   ]
  },
  {
   "cell_type": "code",
   "execution_count": 114,
   "id": "7d34b9d2",
   "metadata": {},
   "outputs": [
    {
     "data": {
      "text/html": [
       "<div>\n",
       "<style scoped>\n",
       "    .dataframe tbody tr th:only-of-type {\n",
       "        vertical-align: middle;\n",
       "    }\n",
       "\n",
       "    .dataframe tbody tr th {\n",
       "        vertical-align: top;\n",
       "    }\n",
       "\n",
       "    .dataframe thead th {\n",
       "        text-align: right;\n",
       "    }\n",
       "</style>\n",
       "<table border=\"1\" class=\"dataframe\">\n",
       "  <thead>\n",
       "    <tr style=\"text-align: right;\">\n",
       "      <th></th>\n",
       "      <th>item_name</th>\n",
       "      <th>desc</th>\n",
       "      <th>quantity</th>\n",
       "      <th>unit_price</th>\n",
       "      <th>total_price</th>\n",
       "      <th>division</th>\n",
       "      <th>district</th>\n",
       "      <th>upazila</th>\n",
       "    </tr>\n",
       "  </thead>\n",
       "  <tbody>\n",
       "    <tr>\n",
       "      <th>0</th>\n",
       "      <td>M&amp;M Peanut Candy 1.7 oz</td>\n",
       "      <td>Food - Chocolate</td>\n",
       "      <td>1</td>\n",
       "      <td>35.0</td>\n",
       "      <td>35.0</td>\n",
       "      <td>DHAKA</td>\n",
       "      <td>JAMALPUR</td>\n",
       "      <td>ISLAMPUR</td>\n",
       "    </tr>\n",
       "    <tr>\n",
       "      <th>1</th>\n",
       "      <td>Red Bull 16oz</td>\n",
       "      <td>Beverage - Energy/Protein</td>\n",
       "      <td>11</td>\n",
       "      <td>37.0</td>\n",
       "      <td>407.0</td>\n",
       "      <td>CHITTAGONG</td>\n",
       "      <td>CHITTAGONG</td>\n",
       "      <td>ANOWARA</td>\n",
       "    </tr>\n",
       "    <tr>\n",
       "      <th>2</th>\n",
       "      <td>Fiber One 90 Calorie Fudge Brownies</td>\n",
       "      <td>Food - Healthy</td>\n",
       "      <td>8</td>\n",
       "      <td>16.0</td>\n",
       "      <td>128.0</td>\n",
       "      <td>DHAKA</td>\n",
       "      <td>RAJBARI</td>\n",
       "      <td>KALUKHALI</td>\n",
       "    </tr>\n",
       "    <tr>\n",
       "      <th>3</th>\n",
       "      <td>Lance Variety Cracker Packs</td>\n",
       "      <td>Food - Snacks</td>\n",
       "      <td>8</td>\n",
       "      <td>13.5</td>\n",
       "      <td>108.0</td>\n",
       "      <td>DHAKA</td>\n",
       "      <td>NETRAKONA</td>\n",
       "      <td>BARHATTA</td>\n",
       "    </tr>\n",
       "    <tr>\n",
       "      <th>4</th>\n",
       "      <td>Kellogg's Cereals Assortment Pack</td>\n",
       "      <td>Food - Sweets</td>\n",
       "      <td>9</td>\n",
       "      <td>13.0</td>\n",
       "      <td>117.0</td>\n",
       "      <td>BARISAL</td>\n",
       "      <td>BHOLA</td>\n",
       "      <td>LALMOHAN</td>\n",
       "    </tr>\n",
       "  </tbody>\n",
       "</table>\n",
       "</div>"
      ],
      "text/plain": [
       "                             item_name                       desc  quantity  \\\n",
       "0              M&M Peanut Candy 1.7 oz           Food - Chocolate         1   \n",
       "1                        Red Bull 16oz  Beverage - Energy/Protein        11   \n",
       "2  Fiber One 90 Calorie Fudge Brownies             Food - Healthy         8   \n",
       "3         Lance Variety Cracker Packs               Food - Snacks         8   \n",
       "4   Kellogg's Cereals Assortment Pack               Food - Sweets         9   \n",
       "\n",
       "   unit_price  total_price    division    district    upazila  \n",
       "0        35.0         35.0       DHAKA    JAMALPUR   ISLAMPUR  \n",
       "1        37.0        407.0  CHITTAGONG  CHITTAGONG    ANOWARA  \n",
       "2        16.0        128.0       DHAKA     RAJBARI  KALUKHALI  \n",
       "3        13.5        108.0       DHAKA   NETRAKONA   BARHATTA  \n",
       "4        13.0        117.0     BARISAL       BHOLA   LALMOHAN  "
      ]
     },
     "execution_count": 114,
     "metadata": {},
     "output_type": "execute_result"
    }
   ],
   "source": [
    "regions.head()"
   ]
  },
  {
   "cell_type": "code",
   "execution_count": null,
   "id": "0efff8d2",
   "metadata": {},
   "outputs": [],
   "source": [
    "regions['district'].unique()"
   ]
  },
  {
   "cell_type": "code",
   "execution_count": null,
   "id": "32463265",
   "metadata": {},
   "outputs": [],
   "source": [
    "regions['division'].unique()"
   ]
  },
  {
   "cell_type": "code",
   "execution_count": 115,
   "id": "b8cb37f8",
   "metadata": {},
   "outputs": [],
   "source": [
    "top_div = regions.groupby('division')['total_price'].sum().sort_values(ascending=False).reset_index()"
   ]
  },
  {
   "cell_type": "code",
   "execution_count": 117,
   "id": "09e13ea7",
   "metadata": {
    "scrolled": true
   },
   "outputs": [
    {
     "data": {
      "text/html": [
       "<div>\n",
       "<style scoped>\n",
       "    .dataframe tbody tr th:only-of-type {\n",
       "        vertical-align: middle;\n",
       "    }\n",
       "\n",
       "    .dataframe tbody tr th {\n",
       "        vertical-align: top;\n",
       "    }\n",
       "\n",
       "    .dataframe thead th {\n",
       "        text-align: right;\n",
       "    }\n",
       "</style>\n",
       "<table border=\"1\" class=\"dataframe\">\n",
       "  <thead>\n",
       "    <tr style=\"text-align: right;\">\n",
       "      <th></th>\n",
       "      <th>division</th>\n",
       "      <th>total_price</th>\n",
       "    </tr>\n",
       "  </thead>\n",
       "  <tbody>\n",
       "    <tr>\n",
       "      <th>0</th>\n",
       "      <td>DHAKA</td>\n",
       "      <td>40764619.75</td>\n",
       "    </tr>\n",
       "    <tr>\n",
       "      <th>1</th>\n",
       "      <td>CHITTAGONG</td>\n",
       "      <td>19763595.00</td>\n",
       "    </tr>\n",
       "    <tr>\n",
       "      <th>2</th>\n",
       "      <td>RAJSHAHI</td>\n",
       "      <td>12099196.00</td>\n",
       "    </tr>\n",
       "    <tr>\n",
       "      <th>3</th>\n",
       "      <td>KHULNA</td>\n",
       "      <td>11311610.50</td>\n",
       "    </tr>\n",
       "    <tr>\n",
       "      <th>4</th>\n",
       "      <td>RANGPUR</td>\n",
       "      <td>8429836.50</td>\n",
       "    </tr>\n",
       "    <tr>\n",
       "      <th>5</th>\n",
       "      <td>BARISAL</td>\n",
       "      <td>7520343.75</td>\n",
       "    </tr>\n",
       "    <tr>\n",
       "      <th>6</th>\n",
       "      <td>SYLHET</td>\n",
       "      <td>5512234.25</td>\n",
       "    </tr>\n",
       "  </tbody>\n",
       "</table>\n",
       "</div>"
      ],
      "text/plain": [
       "     division  total_price\n",
       "0       DHAKA  40764619.75\n",
       "1  CHITTAGONG  19763595.00\n",
       "2    RAJSHAHI  12099196.00\n",
       "3      KHULNA  11311610.50\n",
       "4     RANGPUR   8429836.50\n",
       "5     BARISAL   7520343.75\n",
       "6      SYLHET   5512234.25"
      ]
     },
     "execution_count": 117,
     "metadata": {},
     "output_type": "execute_result"
    }
   ],
   "source": [
    "top_div"
   ]
  },
  {
   "cell_type": "code",
   "execution_count": 303,
   "id": "9e611a44",
   "metadata": {},
   "outputs": [],
   "source": [
    "top_div['%'] = ((top_div['total_price']/ top_div['total_price'].sum())*100).round(2)"
   ]
  },
  {
   "cell_type": "code",
   "execution_count": 304,
   "id": "31026911",
   "metadata": {},
   "outputs": [
    {
     "data": {
      "text/html": [
       "<div>\n",
       "<style scoped>\n",
       "    .dataframe tbody tr th:only-of-type {\n",
       "        vertical-align: middle;\n",
       "    }\n",
       "\n",
       "    .dataframe tbody tr th {\n",
       "        vertical-align: top;\n",
       "    }\n",
       "\n",
       "    .dataframe thead th {\n",
       "        text-align: right;\n",
       "    }\n",
       "</style>\n",
       "<table border=\"1\" class=\"dataframe\">\n",
       "  <thead>\n",
       "    <tr style=\"text-align: right;\">\n",
       "      <th></th>\n",
       "      <th>division</th>\n",
       "      <th>total_price</th>\n",
       "      <th>%</th>\n",
       "    </tr>\n",
       "  </thead>\n",
       "  <tbody>\n",
       "    <tr>\n",
       "      <th>0</th>\n",
       "      <td>DHAKA</td>\n",
       "      <td>40764619.75</td>\n",
       "      <td>38.68</td>\n",
       "    </tr>\n",
       "    <tr>\n",
       "      <th>1</th>\n",
       "      <td>CHITTAGONG</td>\n",
       "      <td>19763595.00</td>\n",
       "      <td>18.75</td>\n",
       "    </tr>\n",
       "    <tr>\n",
       "      <th>2</th>\n",
       "      <td>RAJSHAHI</td>\n",
       "      <td>12099196.00</td>\n",
       "      <td>11.48</td>\n",
       "    </tr>\n",
       "    <tr>\n",
       "      <th>3</th>\n",
       "      <td>KHULNA</td>\n",
       "      <td>11311610.50</td>\n",
       "      <td>10.73</td>\n",
       "    </tr>\n",
       "    <tr>\n",
       "      <th>4</th>\n",
       "      <td>RANGPUR</td>\n",
       "      <td>8429836.50</td>\n",
       "      <td>8.00</td>\n",
       "    </tr>\n",
       "    <tr>\n",
       "      <th>5</th>\n",
       "      <td>BARISAL</td>\n",
       "      <td>7520343.75</td>\n",
       "      <td>7.13</td>\n",
       "    </tr>\n",
       "    <tr>\n",
       "      <th>6</th>\n",
       "      <td>SYLHET</td>\n",
       "      <td>5512234.25</td>\n",
       "      <td>5.23</td>\n",
       "    </tr>\n",
       "  </tbody>\n",
       "</table>\n",
       "</div>"
      ],
      "text/plain": [
       "     division  total_price      %\n",
       "0       DHAKA  40764619.75  38.68\n",
       "1  CHITTAGONG  19763595.00  18.75\n",
       "2    RAJSHAHI  12099196.00  11.48\n",
       "3      KHULNA  11311610.50  10.73\n",
       "4     RANGPUR   8429836.50   8.00\n",
       "5     BARISAL   7520343.75   7.13\n",
       "6      SYLHET   5512234.25   5.23"
      ]
     },
     "execution_count": 304,
     "metadata": {},
     "output_type": "execute_result"
    }
   ],
   "source": [
    "top_div"
   ]
  },
  {
   "cell_type": "code",
   "execution_count": 189,
   "id": "974eb85f",
   "metadata": {},
   "outputs": [
    {
     "data": {
      "image/png": "[encoded data removed]",
      "text/plain": [
       "<Figure size 600x400 with 1 Axes>"
      ]
     },
     "metadata": {},
     "output_type": "display_data"
    }
   ],
   "source": [
    "plt.figure(figsize=(6,4))\n",
    "\n",
    "x = top_div['division'].head(10)\n",
    "y = top_div['total_price'].head(10)\n",
    "\n",
    "plt.bar(x,y)\n",
    "plt.xlabel('Division')\n",
    "plt.xticks(rotation=45)\n",
    "plt.ylabel('Total Revenue (M$)')\n",
    "plt.title('Divisions/ Revenue generated')\n",
    "plt.show()"
   ]
  },
  {
   "cell_type": "code",
   "execution_count": null,
   "id": "ea2e1ffe",
   "metadata": {},
   "outputs": [],
   "source": [
    "# Chart shows that almost 60% of total revenue comes just from 2 divisions (probably the wealthiest). So we can either apply \n",
    "# target marketing to these districts (also taking into account people special characteristics of these areas) to increase\n",
    "# our sales, or we can give special discounts and offers at the customers of the lower revenue generating divisions to increase \n",
    "# revenue at these areas too."
   ]
  },
  {
   "cell_type": "code",
   "execution_count": null,
   "id": "f2e385da",
   "metadata": {},
   "outputs": [],
   "source": []
  },
  {
   "cell_type": "code",
   "execution_count": 305,
   "id": "04b7ee89",
   "metadata": {},
   "outputs": [],
   "source": [
    "top_dist = regions[regions['division'].isin(['CHITTAGONG', 'DHAKA'])].groupby(['division','district'])['total_price'].sum().sort_values(ascending=True).reset_index()"
   ]
  },
  {
   "cell_type": "code",
   "execution_count": 306,
   "id": "9cc368ba",
   "metadata": {},
   "outputs": [
    {
     "data": {
      "text/html": [
       "<div>\n",
       "<style scoped>\n",
       "    .dataframe tbody tr th:only-of-type {\n",
       "        vertical-align: middle;\n",
       "    }\n",
       "\n",
       "    .dataframe tbody tr th {\n",
       "        vertical-align: top;\n",
       "    }\n",
       "\n",
       "    .dataframe thead th {\n",
       "        text-align: right;\n",
       "    }\n",
       "</style>\n",
       "<table border=\"1\" class=\"dataframe\">\n",
       "  <thead>\n",
       "    <tr style=\"text-align: right;\">\n",
       "      <th></th>\n",
       "      <th>division</th>\n",
       "      <th>district</th>\n",
       "      <th>total_price</th>\n",
       "    </tr>\n",
       "  </thead>\n",
       "  <tbody>\n",
       "    <tr>\n",
       "      <th>0</th>\n",
       "      <td>DHAKA</td>\n",
       "      <td>MADARIPUR</td>\n",
       "      <td>601530.50</td>\n",
       "    </tr>\n",
       "    <tr>\n",
       "      <th>1</th>\n",
       "      <td>DHAKA</td>\n",
       "      <td>GAZIPUR</td>\n",
       "      <td>722286.25</td>\n",
       "    </tr>\n",
       "    <tr>\n",
       "      <th>2</th>\n",
       "      <td>CHITTAGONG</td>\n",
       "      <td>LAKSHMIPUR</td>\n",
       "      <td>729909.25</td>\n",
       "    </tr>\n",
       "    <tr>\n",
       "      <th>3</th>\n",
       "      <td>DHAKA</td>\n",
       "      <td>GOPALGANJ</td>\n",
       "      <td>731312.75</td>\n",
       "    </tr>\n",
       "    <tr>\n",
       "      <th>4</th>\n",
       "      <td>DHAKA</td>\n",
       "      <td>NARAYANGANJ</td>\n",
       "      <td>733546.50</td>\n",
       "    </tr>\n",
       "    <tr>\n",
       "      <th>5</th>\n",
       "      <td>DHAKA</td>\n",
       "      <td>SHERPUR</td>\n",
       "      <td>733712.00</td>\n",
       "    </tr>\n",
       "    <tr>\n",
       "      <th>6</th>\n",
       "      <td>DHAKA</td>\n",
       "      <td>RAJBARI</td>\n",
       "      <td>736393.00</td>\n",
       "    </tr>\n",
       "    <tr>\n",
       "      <th>7</th>\n",
       "      <td>CHITTAGONG</td>\n",
       "      <td>FENI</td>\n",
       "      <td>847873.50</td>\n",
       "    </tr>\n",
       "    <tr>\n",
       "      <th>8</th>\n",
       "      <td>DHAKA</td>\n",
       "      <td>SHARIATPUR</td>\n",
       "      <td>855565.75</td>\n",
       "    </tr>\n",
       "    <tr>\n",
       "      <th>9</th>\n",
       "      <td>DHAKA</td>\n",
       "      <td>MUNSHIGANJ</td>\n",
       "      <td>866631.25</td>\n",
       "    </tr>\n",
       "  </tbody>\n",
       "</table>\n",
       "</div>"
      ],
      "text/plain": [
       "     division     district  total_price\n",
       "0       DHAKA    MADARIPUR    601530.50\n",
       "1       DHAKA      GAZIPUR    722286.25\n",
       "2  CHITTAGONG   LAKSHMIPUR    729909.25\n",
       "3       DHAKA    GOPALGANJ    731312.75\n",
       "4       DHAKA  NARAYANGANJ    733546.50\n",
       "5       DHAKA      SHERPUR    733712.00\n",
       "6       DHAKA      RAJBARI    736393.00\n",
       "7  CHITTAGONG         FENI    847873.50\n",
       "8       DHAKA   SHARIATPUR    855565.75\n",
       "9       DHAKA   MUNSHIGANJ    866631.25"
      ]
     },
     "execution_count": 306,
     "metadata": {},
     "output_type": "execute_result"
    }
   ],
   "source": [
    "top_dist.head(10)"
   ]
  },
  {
   "cell_type": "code",
   "execution_count": 307,
   "id": "ebb831eb",
   "metadata": {},
   "outputs": [],
   "source": [
    "low_dist = regions[regions['division'].isin(['BARISAL', 'SYLHET'])].groupby(['division','district'])['total_price'].sum().sort_values(ascending=True).reset_index()"
   ]
  },
  {
   "cell_type": "code",
   "execution_count": 308,
   "id": "e0024e05",
   "metadata": {},
   "outputs": [
    {
     "data": {
      "text/html": [
       "<div>\n",
       "<style scoped>\n",
       "    .dataframe tbody tr th:only-of-type {\n",
       "        vertical-align: middle;\n",
       "    }\n",
       "\n",
       "    .dataframe tbody tr th {\n",
       "        vertical-align: top;\n",
       "    }\n",
       "\n",
       "    .dataframe thead th {\n",
       "        text-align: right;\n",
       "    }\n",
       "</style>\n",
       "<table border=\"1\" class=\"dataframe\">\n",
       "  <thead>\n",
       "    <tr style=\"text-align: right;\">\n",
       "      <th></th>\n",
       "      <th>division</th>\n",
       "      <th>district</th>\n",
       "      <th>total_price</th>\n",
       "    </tr>\n",
       "  </thead>\n",
       "  <tbody>\n",
       "    <tr>\n",
       "      <th>0</th>\n",
       "      <td>BARISAL</td>\n",
       "      <td>JHALOKATI</td>\n",
       "      <td>570807.25</td>\n",
       "    </tr>\n",
       "    <tr>\n",
       "      <th>1</th>\n",
       "      <td>BARISAL</td>\n",
       "      <td>BARGUNA</td>\n",
       "      <td>869041.00</td>\n",
       "    </tr>\n",
       "    <tr>\n",
       "      <th>2</th>\n",
       "      <td>BARISAL</td>\n",
       "      <td>BHOLA</td>\n",
       "      <td>1012205.75</td>\n",
       "    </tr>\n",
       "    <tr>\n",
       "      <th>3</th>\n",
       "      <td>BARISAL</td>\n",
       "      <td>PIROJPUR</td>\n",
       "      <td>1018423.00</td>\n",
       "    </tr>\n",
       "    <tr>\n",
       "      <th>4</th>\n",
       "      <td>SYLHET</td>\n",
       "      <td>MAULVIBAZAR</td>\n",
       "      <td>1036745.00</td>\n",
       "    </tr>\n",
       "    <tr>\n",
       "      <th>5</th>\n",
       "      <td>BARISAL</td>\n",
       "      <td>PATUAKHALI</td>\n",
       "      <td>1152629.00</td>\n",
       "    </tr>\n",
       "    <tr>\n",
       "      <th>6</th>\n",
       "      <td>SYLHET</td>\n",
       "      <td>HABIGANJ</td>\n",
       "      <td>1153998.00</td>\n",
       "    </tr>\n",
       "    <tr>\n",
       "      <th>7</th>\n",
       "      <td>SYLHET</td>\n",
       "      <td>SUNAMGANJ</td>\n",
       "      <td>1593774.00</td>\n",
       "    </tr>\n",
       "    <tr>\n",
       "      <th>8</th>\n",
       "      <td>SYLHET</td>\n",
       "      <td>SYLHET</td>\n",
       "      <td>1727717.25</td>\n",
       "    </tr>\n",
       "    <tr>\n",
       "      <th>9</th>\n",
       "      <td>BARISAL</td>\n",
       "      <td>BARISAL</td>\n",
       "      <td>2897237.75</td>\n",
       "    </tr>\n",
       "  </tbody>\n",
       "</table>\n",
       "</div>"
      ],
      "text/plain": [
       "  division     district  total_price\n",
       "0  BARISAL    JHALOKATI    570807.25\n",
       "1  BARISAL      BARGUNA    869041.00\n",
       "2  BARISAL        BHOLA   1012205.75\n",
       "3  BARISAL     PIROJPUR   1018423.00\n",
       "4   SYLHET  MAULVIBAZAR   1036745.00\n",
       "5  BARISAL   PATUAKHALI   1152629.00\n",
       "6   SYLHET     HABIGANJ   1153998.00\n",
       "7   SYLHET    SUNAMGANJ   1593774.00\n",
       "8   SYLHET       SYLHET   1727717.25\n",
       "9  BARISAL      BARISAL   2897237.75"
      ]
     },
     "execution_count": 308,
     "metadata": {},
     "output_type": "execute_result"
    }
   ],
   "source": [
    "low_dist.head(10)"
   ]
  },
  {
   "cell_type": "code",
   "execution_count": null,
   "id": "cdb3fb1c",
   "metadata": {},
   "outputs": [],
   "source": []
  },
  {
   "cell_type": "code",
   "execution_count": 188,
   "id": "9b743722",
   "metadata": {},
   "outputs": [
    {
     "data": {
      "image/png": "[encoded data removed]",
      "text/plain": [
       "<Figure size 600x400 with 1 Axes>"
      ]
     },
     "metadata": {},
     "output_type": "display_data"
    }
   ],
   "source": [
    "plt.figure(figsize=(6,4))\n",
    "\n",
    "x = top_dist['district'].head(10)\n",
    "y = top_dist['total_price'].head(10)\n",
    "\n",
    "plt.bar(x,y)\n",
    "plt.xlabel('District')\n",
    "plt.xticks(rotation=90)\n",
    "plt.ylabel('Total Revenue (K$)')\n",
    "plt.title('Top District/ Revenue generated')\n",
    "plt.show()"
   ]
  },
  {
   "cell_type": "code",
   "execution_count": 187,
   "id": "f31642d9",
   "metadata": {},
   "outputs": [
    {
     "data": {
      "image/png": "[encoded data removed]",
      "text/plain": [
       "<Figure size 600x400 with 1 Axes>"
      ]
     },
     "metadata": {},
     "output_type": "display_data"
    }
   ],
   "source": [
    "plt.figure(figsize=(6,4))\n",
    "\n",
    "x = low_dist['district'].head(10)\n",
    "y = low_dist['total_price'].head(10)\n",
    "\n",
    "plt.bar(x,y)\n",
    "plt.xlabel('District')\n",
    "plt.xticks(rotation=90)\n",
    "plt.ylabel('Total Revenue (K$)')\n",
    "plt.title('Lower District/ Revenue generated')\n",
    "plt.show()"
   ]
  },
  {
   "cell_type": "code",
   "execution_count": null,
   "id": "e4cc85f0",
   "metadata": {},
   "outputs": [],
   "source": [
    "# Further analysis in the top 2 and bottom 2 divisions (llok into each division's districts) shows the revenue generated \n",
    "# from these particular areas, so marketing strategies and bonus offer/ discount at products can be given with higher accuracy\n",
    "# regarding custmer habits, trends and lifestyle"
   ]
  },
  {
   "cell_type": "code",
   "execution_count": null,
   "id": "fac1ee03",
   "metadata": {},
   "outputs": [],
   "source": []
  },
  {
   "cell_type": "code",
   "execution_count": null,
   "id": "33e368ba",
   "metadata": {},
   "outputs": [],
   "source": [
    "# Sales vs Time"
   ]
  },
  {
   "cell_type": "code",
   "execution_count": null,
   "id": "a9ccc934",
   "metadata": {},
   "outputs": [],
   "source": [
    "# Check how sales have progressed during the years"
   ]
  },
  {
   "cell_type": "code",
   "execution_count": 180,
   "id": "22f35215",
   "metadata": {},
   "outputs": [],
   "source": [
    "sales = df[['item_name', 'desc', 'quantity', 'unit_price', 'total_price', 'date', 'year', 'quarter', 'month', 'week', 'day', 'hour']]"
   ]
  },
  {
   "cell_type": "code",
   "execution_count": null,
   "id": "23bd4de7",
   "metadata": {},
   "outputs": [],
   "source": [
    "sales.head()"
   ]
  },
  {
   "cell_type": "code",
   "execution_count": 240,
   "id": "413672ee",
   "metadata": {},
   "outputs": [],
   "source": [
    "sales = sales[sales['year'] != 2021]"
   ]
  },
  {
   "cell_type": "code",
   "execution_count": 241,
   "id": "e55f6cb8",
   "metadata": {},
   "outputs": [],
   "source": [
    "sales_per_year = sales.groupby('year')['total_price'].sum().reset_index()"
   ]
  },
  {
   "cell_type": "code",
   "execution_count": 242,
   "id": "a9431d61",
   "metadata": {},
   "outputs": [
    {
     "data": {
      "text/html": [
       "<div>\n",
       "<style scoped>\n",
       "    .dataframe tbody tr th:only-of-type {\n",
       "        vertical-align: middle;\n",
       "    }\n",
       "\n",
       "    .dataframe tbody tr th {\n",
       "        vertical-align: top;\n",
       "    }\n",
       "\n",
       "    .dataframe thead th {\n",
       "        text-align: right;\n",
       "    }\n",
       "</style>\n",
       "<table border=\"1\" class=\"dataframe\">\n",
       "  <thead>\n",
       "    <tr style=\"text-align: right;\">\n",
       "      <th></th>\n",
       "      <th>year</th>\n",
       "      <th>total_price</th>\n",
       "    </tr>\n",
       "  </thead>\n",
       "  <tbody>\n",
       "    <tr>\n",
       "      <th>0</th>\n",
       "      <td>2014</td>\n",
       "      <td>14334731.25</td>\n",
       "    </tr>\n",
       "    <tr>\n",
       "      <th>1</th>\n",
       "      <td>2015</td>\n",
       "      <td>15095720.25</td>\n",
       "    </tr>\n",
       "    <tr>\n",
       "      <th>2</th>\n",
       "      <td>2016</td>\n",
       "      <td>14976508.25</td>\n",
       "    </tr>\n",
       "    <tr>\n",
       "      <th>3</th>\n",
       "      <td>2017</td>\n",
       "      <td>15015806.00</td>\n",
       "    </tr>\n",
       "    <tr>\n",
       "      <th>4</th>\n",
       "      <td>2018</td>\n",
       "      <td>15108197.25</td>\n",
       "    </tr>\n",
       "    <tr>\n",
       "      <th>5</th>\n",
       "      <td>2019</td>\n",
       "      <td>14949510.25</td>\n",
       "    </tr>\n",
       "    <tr>\n",
       "      <th>6</th>\n",
       "      <td>2020</td>\n",
       "      <td>15037190.25</td>\n",
       "    </tr>\n",
       "  </tbody>\n",
       "</table>\n",
       "</div>"
      ],
      "text/plain": [
       "   year  total_price\n",
       "0  2014  14334731.25\n",
       "1  2015  15095720.25\n",
       "2  2016  14976508.25\n",
       "3  2017  15015806.00\n",
       "4  2018  15108197.25\n",
       "5  2019  14949510.25\n",
       "6  2020  15037190.25"
      ]
     },
     "execution_count": 242,
     "metadata": {},
     "output_type": "execute_result"
    }
   ],
   "source": [
    "sales_per_year"
   ]
  },
  {
   "cell_type": "code",
   "execution_count": 243,
   "id": "50643978",
   "metadata": {},
   "outputs": [
    {
     "data": {
      "image/png": "[encoded data removed]",
      "text/plain": [
       "<Figure size 800x400 with 1 Axes>"
      ]
     },
     "metadata": {},
     "output_type": "display_data"
    }
   ],
   "source": [
    "plt.figure(figsize=(8, 4))\n",
    "\n",
    "x= sales_per_year['year']\n",
    "y = sales_per_year['total_price']\n",
    "plt.plot(x,y,marker='o', linestyle='-', color='b')\n",
    "\n",
    "plt.xlabel('Year')\n",
    "plt.ylabel('Total Revenue (M$)')\n",
    "plt.title('Total Revenue Per Year')\n",
    "\n",
    "plt.show()"
   ]
  },
  {
   "cell_type": "code",
   "execution_count": 244,
   "id": "48877c39",
   "metadata": {},
   "outputs": [
    {
     "data": {
      "text/html": [
       "<div>\n",
       "<style scoped>\n",
       "    .dataframe tbody tr th:only-of-type {\n",
       "        vertical-align: middle;\n",
       "    }\n",
       "\n",
       "    .dataframe tbody tr th {\n",
       "        vertical-align: top;\n",
       "    }\n",
       "\n",
       "    .dataframe thead th {\n",
       "        text-align: right;\n",
       "    }\n",
       "</style>\n",
       "<table border=\"1\" class=\"dataframe\">\n",
       "  <thead>\n",
       "    <tr style=\"text-align: right;\">\n",
       "      <th></th>\n",
       "      <th>year</th>\n",
       "      <th>total_price</th>\n",
       "    </tr>\n",
       "  </thead>\n",
       "  <tbody>\n",
       "    <tr>\n",
       "      <th>0</th>\n",
       "      <td>2014</td>\n",
       "      <td>14334731.25</td>\n",
       "    </tr>\n",
       "    <tr>\n",
       "      <th>1</th>\n",
       "      <td>2015</td>\n",
       "      <td>15095720.25</td>\n",
       "    </tr>\n",
       "    <tr>\n",
       "      <th>2</th>\n",
       "      <td>2016</td>\n",
       "      <td>14976508.25</td>\n",
       "    </tr>\n",
       "    <tr>\n",
       "      <th>3</th>\n",
       "      <td>2017</td>\n",
       "      <td>15015806.00</td>\n",
       "    </tr>\n",
       "    <tr>\n",
       "      <th>4</th>\n",
       "      <td>2018</td>\n",
       "      <td>15108197.25</td>\n",
       "    </tr>\n",
       "    <tr>\n",
       "      <th>5</th>\n",
       "      <td>2019</td>\n",
       "      <td>14949510.25</td>\n",
       "    </tr>\n",
       "    <tr>\n",
       "      <th>6</th>\n",
       "      <td>2020</td>\n",
       "      <td>15037190.25</td>\n",
       "    </tr>\n",
       "  </tbody>\n",
       "</table>\n",
       "</div>"
      ],
      "text/plain": [
       "   year  total_price\n",
       "0  2014  14334731.25\n",
       "1  2015  15095720.25\n",
       "2  2016  14976508.25\n",
       "3  2017  15015806.00\n",
       "4  2018  15108197.25\n",
       "5  2019  14949510.25\n",
       "6  2020  15037190.25"
      ]
     },
     "execution_count": 244,
     "metadata": {},
     "output_type": "execute_result"
    }
   ],
   "source": [
    "sales_per_year"
   ]
  },
  {
   "cell_type": "code",
   "execution_count": 251,
   "id": "39ccc3be",
   "metadata": {},
   "outputs": [],
   "source": [
    "sales_per_year['Difference%'] = (sales_per_year['total_price'].pct_change()*100).round(2)"
   ]
  },
  {
   "cell_type": "code",
   "execution_count": 246,
   "id": "62f90e8c",
   "metadata": {},
   "outputs": [
    {
     "data": {
      "text/html": [
       "<div>\n",
       "<style scoped>\n",
       "    .dataframe tbody tr th:only-of-type {\n",
       "        vertical-align: middle;\n",
       "    }\n",
       "\n",
       "    .dataframe tbody tr th {\n",
       "        vertical-align: top;\n",
       "    }\n",
       "\n",
       "    .dataframe thead th {\n",
       "        text-align: right;\n",
       "    }\n",
       "</style>\n",
       "<table border=\"1\" class=\"dataframe\">\n",
       "  <thead>\n",
       "    <tr style=\"text-align: right;\">\n",
       "      <th></th>\n",
       "      <th>year</th>\n",
       "      <th>total_price</th>\n",
       "      <th>Drop%</th>\n",
       "    </tr>\n",
       "  </thead>\n",
       "  <tbody>\n",
       "    <tr>\n",
       "      <th>0</th>\n",
       "      <td>2014</td>\n",
       "      <td>14334731.25</td>\n",
       "      <td>NaN</td>\n",
       "    </tr>\n",
       "    <tr>\n",
       "      <th>1</th>\n",
       "      <td>2015</td>\n",
       "      <td>15095720.25</td>\n",
       "      <td>5.31</td>\n",
       "    </tr>\n",
       "    <tr>\n",
       "      <th>2</th>\n",
       "      <td>2016</td>\n",
       "      <td>14976508.25</td>\n",
       "      <td>-0.79</td>\n",
       "    </tr>\n",
       "    <tr>\n",
       "      <th>3</th>\n",
       "      <td>2017</td>\n",
       "      <td>15015806.00</td>\n",
       "      <td>0.26</td>\n",
       "    </tr>\n",
       "    <tr>\n",
       "      <th>4</th>\n",
       "      <td>2018</td>\n",
       "      <td>15108197.25</td>\n",
       "      <td>0.62</td>\n",
       "    </tr>\n",
       "    <tr>\n",
       "      <th>5</th>\n",
       "      <td>2019</td>\n",
       "      <td>14949510.25</td>\n",
       "      <td>-1.05</td>\n",
       "    </tr>\n",
       "    <tr>\n",
       "      <th>6</th>\n",
       "      <td>2020</td>\n",
       "      <td>15037190.25</td>\n",
       "      <td>0.59</td>\n",
       "    </tr>\n",
       "  </tbody>\n",
       "</table>\n",
       "</div>"
      ],
      "text/plain": [
       "   year  total_price  Drop%\n",
       "0  2014  14334731.25    NaN\n",
       "1  2015  15095720.25   5.31\n",
       "2  2016  14976508.25  -0.79\n",
       "3  2017  15015806.00   0.26\n",
       "4  2018  15108197.25   0.62\n",
       "5  2019  14949510.25  -1.05\n",
       "6  2020  15037190.25   0.59"
      ]
     },
     "execution_count": 246,
     "metadata": {},
     "output_type": "execute_result"
    }
   ],
   "source": [
    "sales_per_year"
   ]
  },
  {
   "cell_type": "code",
   "execution_count": 247,
   "id": "77de04cd",
   "metadata": {},
   "outputs": [],
   "source": [
    "regions1 = df[['item_name','desc', 'quantity', 'unit_price', 'total_price', 'division', 'district', 'upazila', 'year', 'month']]"
   ]
  },
  {
   "cell_type": "code",
   "execution_count": 248,
   "id": "db574ddc",
   "metadata": {},
   "outputs": [],
   "source": [
    "div_drop = regions1.groupby('division')['total_price'].sum().sort_values(ascending=False).reset_index()"
   ]
  },
  {
   "cell_type": "code",
   "execution_count": 249,
   "id": "63cfab2c",
   "metadata": {},
   "outputs": [
    {
     "data": {
      "text/html": [
       "<div>\n",
       "<style scoped>\n",
       "    .dataframe tbody tr th:only-of-type {\n",
       "        vertical-align: middle;\n",
       "    }\n",
       "\n",
       "    .dataframe tbody tr th {\n",
       "        vertical-align: top;\n",
       "    }\n",
       "\n",
       "    .dataframe thead th {\n",
       "        text-align: right;\n",
       "    }\n",
       "</style>\n",
       "<table border=\"1\" class=\"dataframe\">\n",
       "  <thead>\n",
       "    <tr style=\"text-align: right;\">\n",
       "      <th></th>\n",
       "      <th>division</th>\n",
       "      <th>total_price</th>\n",
       "    </tr>\n",
       "  </thead>\n",
       "  <tbody>\n",
       "    <tr>\n",
       "      <th>0</th>\n",
       "      <td>DHAKA</td>\n",
       "      <td>40764619.75</td>\n",
       "    </tr>\n",
       "    <tr>\n",
       "      <th>1</th>\n",
       "      <td>CHITTAGONG</td>\n",
       "      <td>19763595.00</td>\n",
       "    </tr>\n",
       "    <tr>\n",
       "      <th>2</th>\n",
       "      <td>RAJSHAHI</td>\n",
       "      <td>12099196.00</td>\n",
       "    </tr>\n",
       "    <tr>\n",
       "      <th>3</th>\n",
       "      <td>KHULNA</td>\n",
       "      <td>11311610.50</td>\n",
       "    </tr>\n",
       "    <tr>\n",
       "      <th>4</th>\n",
       "      <td>RANGPUR</td>\n",
       "      <td>8429836.50</td>\n",
       "    </tr>\n",
       "    <tr>\n",
       "      <th>5</th>\n",
       "      <td>BARISAL</td>\n",
       "      <td>7520343.75</td>\n",
       "    </tr>\n",
       "    <tr>\n",
       "      <th>6</th>\n",
       "      <td>SYLHET</td>\n",
       "      <td>5512234.25</td>\n",
       "    </tr>\n",
       "  </tbody>\n",
       "</table>\n",
       "</div>"
      ],
      "text/plain": [
       "     division  total_price\n",
       "0       DHAKA  40764619.75\n",
       "1  CHITTAGONG  19763595.00\n",
       "2    RAJSHAHI  12099196.00\n",
       "3      KHULNA  11311610.50\n",
       "4     RANGPUR   8429836.50\n",
       "5     BARISAL   7520343.75\n",
       "6      SYLHET   5512234.25"
      ]
     },
     "execution_count": 249,
     "metadata": {},
     "output_type": "execute_result"
    }
   ],
   "source": [
    "div_drop"
   ]
  },
  {
   "cell_type": "code",
   "execution_count": 253,
   "id": "d87411cd",
   "metadata": {},
   "outputs": [],
   "source": [
    "seasonality = sales.groupby(['month', 'year'])['total_price'].sum().sort_values(ascending=False).reset_index()"
   ]
  },
  {
   "cell_type": "code",
   "execution_count": 256,
   "id": "519e0387",
   "metadata": {},
   "outputs": [
    {
     "data": {
      "text/html": [
       "<div>\n",
       "<style scoped>\n",
       "    .dataframe tbody tr th:only-of-type {\n",
       "        vertical-align: middle;\n",
       "    }\n",
       "\n",
       "    .dataframe tbody tr th {\n",
       "        vertical-align: top;\n",
       "    }\n",
       "\n",
       "    .dataframe thead th {\n",
       "        text-align: right;\n",
       "    }\n",
       "</style>\n",
       "<table border=\"1\" class=\"dataframe\">\n",
       "  <thead>\n",
       "    <tr style=\"text-align: right;\">\n",
       "      <th></th>\n",
       "      <th>month</th>\n",
       "      <th>year</th>\n",
       "      <th>total_price</th>\n",
       "    </tr>\n",
       "  </thead>\n",
       "  <tbody>\n",
       "    <tr>\n",
       "      <th>0</th>\n",
       "      <td>12</td>\n",
       "      <td>2020</td>\n",
       "      <td>1346884.75</td>\n",
       "    </tr>\n",
       "    <tr>\n",
       "      <th>1</th>\n",
       "      <td>5</td>\n",
       "      <td>2015</td>\n",
       "      <td>1345707.75</td>\n",
       "    </tr>\n",
       "    <tr>\n",
       "      <th>2</th>\n",
       "      <td>1</td>\n",
       "      <td>2019</td>\n",
       "      <td>1341867.00</td>\n",
       "    </tr>\n",
       "    <tr>\n",
       "      <th>3</th>\n",
       "      <td>5</td>\n",
       "      <td>2018</td>\n",
       "      <td>1331593.25</td>\n",
       "    </tr>\n",
       "    <tr>\n",
       "      <th>4</th>\n",
       "      <td>12</td>\n",
       "      <td>2018</td>\n",
       "      <td>1330733.00</td>\n",
       "    </tr>\n",
       "    <tr>\n",
       "      <th>5</th>\n",
       "      <td>7</td>\n",
       "      <td>2015</td>\n",
       "      <td>1328373.25</td>\n",
       "    </tr>\n",
       "    <tr>\n",
       "      <th>6</th>\n",
       "      <td>8</td>\n",
       "      <td>2017</td>\n",
       "      <td>1324086.75</td>\n",
       "    </tr>\n",
       "    <tr>\n",
       "      <th>7</th>\n",
       "      <td>10</td>\n",
       "      <td>2020</td>\n",
       "      <td>1319655.75</td>\n",
       "    </tr>\n",
       "    <tr>\n",
       "      <th>8</th>\n",
       "      <td>7</td>\n",
       "      <td>2014</td>\n",
       "      <td>1317296.00</td>\n",
       "    </tr>\n",
       "    <tr>\n",
       "      <th>9</th>\n",
       "      <td>5</td>\n",
       "      <td>2016</td>\n",
       "      <td>1313370.50</td>\n",
       "    </tr>\n",
       "  </tbody>\n",
       "</table>\n",
       "</div>"
      ],
      "text/plain": [
       "   month  year  total_price\n",
       "0     12  2020   1346884.75\n",
       "1      5  2015   1345707.75\n",
       "2      1  2019   1341867.00\n",
       "3      5  2018   1331593.25\n",
       "4     12  2018   1330733.00\n",
       "5      7  2015   1328373.25\n",
       "6      8  2017   1324086.75\n",
       "7     10  2020   1319655.75\n",
       "8      7  2014   1317296.00\n",
       "9      5  2016   1313370.50"
      ]
     },
     "execution_count": 256,
     "metadata": {},
     "output_type": "execute_result"
    }
   ],
   "source": [
    "seasonality.head(10)"
   ]
  },
  {
   "cell_type": "code",
   "execution_count": 265,
   "id": "8ee1c3d7",
   "metadata": {},
   "outputs": [],
   "source": [
    "sales_month = sales.groupby('month')['total_price'].sum().sort_values(ascending=False).reset_index()"
   ]
  },
  {
   "cell_type": "code",
   "execution_count": 266,
   "id": "29d90fec",
   "metadata": {},
   "outputs": [
    {
     "data": {
      "text/html": [
       "<div>\n",
       "<style scoped>\n",
       "    .dataframe tbody tr th:only-of-type {\n",
       "        vertical-align: middle;\n",
       "    }\n",
       "\n",
       "    .dataframe tbody tr th {\n",
       "        vertical-align: top;\n",
       "    }\n",
       "\n",
       "    .dataframe thead th {\n",
       "        text-align: right;\n",
       "    }\n",
       "</style>\n",
       "<table border=\"1\" class=\"dataframe\">\n",
       "  <thead>\n",
       "    <tr style=\"text-align: right;\">\n",
       "      <th></th>\n",
       "      <th>month</th>\n",
       "      <th>total_price</th>\n",
       "    </tr>\n",
       "  </thead>\n",
       "  <tbody>\n",
       "    <tr>\n",
       "      <th>0</th>\n",
       "      <td>5</td>\n",
       "      <td>9078002.50</td>\n",
       "    </tr>\n",
       "    <tr>\n",
       "      <th>1</th>\n",
       "      <td>7</td>\n",
       "      <td>9046580.00</td>\n",
       "    </tr>\n",
       "    <tr>\n",
       "      <th>2</th>\n",
       "      <td>3</td>\n",
       "      <td>8939152.00</td>\n",
       "    </tr>\n",
       "    <tr>\n",
       "      <th>3</th>\n",
       "      <td>8</td>\n",
       "      <td>8929475.25</td>\n",
       "    </tr>\n",
       "    <tr>\n",
       "      <th>4</th>\n",
       "      <td>12</td>\n",
       "      <td>8923480.50</td>\n",
       "    </tr>\n",
       "    <tr>\n",
       "      <th>5</th>\n",
       "      <td>10</td>\n",
       "      <td>8902783.75</td>\n",
       "    </tr>\n",
       "    <tr>\n",
       "      <th>6</th>\n",
       "      <td>9</td>\n",
       "      <td>8724326.50</td>\n",
       "    </tr>\n",
       "    <tr>\n",
       "      <th>7</th>\n",
       "      <td>11</td>\n",
       "      <td>8680026.00</td>\n",
       "    </tr>\n",
       "    <tr>\n",
       "      <th>8</th>\n",
       "      <td>6</td>\n",
       "      <td>8556853.00</td>\n",
       "    </tr>\n",
       "    <tr>\n",
       "      <th>9</th>\n",
       "      <td>4</td>\n",
       "      <td>8504634.75</td>\n",
       "    </tr>\n",
       "    <tr>\n",
       "      <th>10</th>\n",
       "      <td>1</td>\n",
       "      <td>8158471.75</td>\n",
       "    </tr>\n",
       "    <tr>\n",
       "      <th>11</th>\n",
       "      <td>2</td>\n",
       "      <td>8073877.50</td>\n",
       "    </tr>\n",
       "  </tbody>\n",
       "</table>\n",
       "</div>"
      ],
      "text/plain": [
       "    month  total_price\n",
       "0       5   9078002.50\n",
       "1       7   9046580.00\n",
       "2       3   8939152.00\n",
       "3       8   8929475.25\n",
       "4      12   8923480.50\n",
       "5      10   8902783.75\n",
       "6       9   8724326.50\n",
       "7      11   8680026.00\n",
       "8       6   8556853.00\n",
       "9       4   8504634.75\n",
       "10      1   8158471.75\n",
       "11      2   8073877.50"
      ]
     },
     "execution_count": 266,
     "metadata": {},
     "output_type": "execute_result"
    }
   ],
   "source": [
    "sales_month"
   ]
  },
  {
   "cell_type": "code",
   "execution_count": null,
   "id": "149a53d0",
   "metadata": {},
   "outputs": [],
   "source": [
    "# Chart above shows that sales had a small increase from 2014 to 2015 (~5% increase), and since then are pretty stable. Minor\n",
    "# changes at the total sales over the years, so buisiness is doing pretty good regarding their customer loyalty and sales\n",
    "# stability.\n",
    "\n",
    "# Also from data it is obvious that there is no seasonality patterns in product sales. Customer engagement is year round. So \n",
    "# marketing campains during particular times of the year (e.g. Xmas holidays) are not necessary. Can't hurt either though."
   ]
  },
  {
   "cell_type": "code",
   "execution_count": null,
   "id": "69f255a7",
   "metadata": {},
   "outputs": [],
   "source": []
  },
  {
   "cell_type": "code",
   "execution_count": null,
   "id": "58e36bda",
   "metadata": {},
   "outputs": [],
   "source": [
    "# Sales per transaction type"
   ]
  },
  {
   "cell_type": "code",
   "execution_count": null,
   "id": "97081e50",
   "metadata": {},
   "outputs": [],
   "source": [
    "# Check what king of transaction type customers preffer, and which banks choose for their transactions"
   ]
  },
  {
   "cell_type": "code",
   "execution_count": 263,
   "id": "8d28b058",
   "metadata": {},
   "outputs": [],
   "source": [
    "transactions = df[['item_name','desc', 'quantity', 'unit_price', 'total_price', 'division', 'district', 'upazila', 'trans_type', 'bank_name']]"
   ]
  },
  {
   "cell_type": "code",
   "execution_count": 264,
   "id": "38f0323f",
   "metadata": {},
   "outputs": [
    {
     "data": {
      "text/html": [
       "<div>\n",
       "<style scoped>\n",
       "    .dataframe tbody tr th:only-of-type {\n",
       "        vertical-align: middle;\n",
       "    }\n",
       "\n",
       "    .dataframe tbody tr th {\n",
       "        vertical-align: top;\n",
       "    }\n",
       "\n",
       "    .dataframe thead th {\n",
       "        text-align: right;\n",
       "    }\n",
       "</style>\n",
       "<table border=\"1\" class=\"dataframe\">\n",
       "  <thead>\n",
       "    <tr style=\"text-align: right;\">\n",
       "      <th></th>\n",
       "      <th>item_name</th>\n",
       "      <th>desc</th>\n",
       "      <th>quantity</th>\n",
       "      <th>unit_price</th>\n",
       "      <th>total_price</th>\n",
       "      <th>division</th>\n",
       "      <th>district</th>\n",
       "      <th>upazila</th>\n",
       "      <th>trans_type</th>\n",
       "      <th>bank_name</th>\n",
       "    </tr>\n",
       "  </thead>\n",
       "  <tbody>\n",
       "    <tr>\n",
       "      <th>0</th>\n",
       "      <td>M&amp;M Peanut Candy 1.7 oz</td>\n",
       "      <td>Food - Chocolate</td>\n",
       "      <td>1</td>\n",
       "      <td>35.00</td>\n",
       "      <td>35.00</td>\n",
       "      <td>DHAKA</td>\n",
       "      <td>JAMALPUR</td>\n",
       "      <td>ISLAMPUR</td>\n",
       "      <td>card</td>\n",
       "      <td>Premier Bank Limited</td>\n",
       "    </tr>\n",
       "    <tr>\n",
       "      <th>1</th>\n",
       "      <td>Red Bull 16oz</td>\n",
       "      <td>Beverage - Energy/Protein</td>\n",
       "      <td>11</td>\n",
       "      <td>37.00</td>\n",
       "      <td>407.00</td>\n",
       "      <td>CHITTAGONG</td>\n",
       "      <td>CHITTAGONG</td>\n",
       "      <td>ANOWARA</td>\n",
       "      <td>cash</td>\n",
       "      <td>None</td>\n",
       "    </tr>\n",
       "    <tr>\n",
       "      <th>2</th>\n",
       "      <td>Fiber One 90 Calorie Fudge Brownies</td>\n",
       "      <td>Food - Healthy</td>\n",
       "      <td>8</td>\n",
       "      <td>16.00</td>\n",
       "      <td>128.00</td>\n",
       "      <td>DHAKA</td>\n",
       "      <td>RAJBARI</td>\n",
       "      <td>KALUKHALI</td>\n",
       "      <td>card</td>\n",
       "      <td>Mutual Trust Bank Limited</td>\n",
       "    </tr>\n",
       "    <tr>\n",
       "      <th>3</th>\n",
       "      <td>Lance Variety Cracker Packs</td>\n",
       "      <td>Food - Snacks</td>\n",
       "      <td>8</td>\n",
       "      <td>13.50</td>\n",
       "      <td>108.00</td>\n",
       "      <td>DHAKA</td>\n",
       "      <td>NETRAKONA</td>\n",
       "      <td>BARHATTA</td>\n",
       "      <td>card</td>\n",
       "      <td>Eastern Bank Limited</td>\n",
       "    </tr>\n",
       "    <tr>\n",
       "      <th>4</th>\n",
       "      <td>Kellogg's Cereals Assortment Pack</td>\n",
       "      <td>Food - Sweets</td>\n",
       "      <td>9</td>\n",
       "      <td>13.00</td>\n",
       "      <td>117.00</td>\n",
       "      <td>BARISAL</td>\n",
       "      <td>BHOLA</td>\n",
       "      <td>LALMOHAN</td>\n",
       "      <td>card</td>\n",
       "      <td>United Commercial Bank Ltd</td>\n",
       "    </tr>\n",
       "    <tr>\n",
       "      <th>...</th>\n",
       "      <td>...</td>\n",
       "      <td>...</td>\n",
       "      <td>...</td>\n",
       "      <td>...</td>\n",
       "      <td>...</td>\n",
       "      <td>...</td>\n",
       "      <td>...</td>\n",
       "      <td>...</td>\n",
       "      <td>...</td>\n",
       "      <td>...</td>\n",
       "    </tr>\n",
       "    <tr>\n",
       "      <th>999995</th>\n",
       "      <td>Welch's 100% Juice Variety10 oz</td>\n",
       "      <td>Beverage - Juice</td>\n",
       "      <td>8</td>\n",
       "      <td>17.00</td>\n",
       "      <td>136.00</td>\n",
       "      <td>DHAKA</td>\n",
       "      <td>DHAKA</td>\n",
       "      <td>PALLABI</td>\n",
       "      <td>card</td>\n",
       "      <td>United Commercial Bank Ltd</td>\n",
       "    </tr>\n",
       "    <tr>\n",
       "      <th>999996</th>\n",
       "      <td>Fresca Original - 12 oz cans</td>\n",
       "      <td>a. Beverage - Soda</td>\n",
       "      <td>1</td>\n",
       "      <td>6.75</td>\n",
       "      <td>6.75</td>\n",
       "      <td>DHAKA</td>\n",
       "      <td>DHAKA</td>\n",
       "      <td>GENDARIA</td>\n",
       "      <td>mobile</td>\n",
       "      <td>Bkash</td>\n",
       "    </tr>\n",
       "    <tr>\n",
       "      <th>999997</th>\n",
       "      <td>Fresca Original - 12 oz cans</td>\n",
       "      <td>a. Beverage - Soda</td>\n",
       "      <td>2</td>\n",
       "      <td>6.75</td>\n",
       "      <td>13.50</td>\n",
       "      <td>DHAKA</td>\n",
       "      <td>DHAKA</td>\n",
       "      <td>SAVAR</td>\n",
       "      <td>card</td>\n",
       "      <td>Eastern Bank Limited</td>\n",
       "    </tr>\n",
       "    <tr>\n",
       "      <th>999998</th>\n",
       "      <td>Strong Everyday Napkins</td>\n",
       "      <td>Kitchen Supplies</td>\n",
       "      <td>11</td>\n",
       "      <td>14.00</td>\n",
       "      <td>154.00</td>\n",
       "      <td>BARISAL</td>\n",
       "      <td>JHALOKATI</td>\n",
       "      <td>RAJAPUR</td>\n",
       "      <td>card</td>\n",
       "      <td>BRAC Bank Limited</td>\n",
       "    </tr>\n",
       "    <tr>\n",
       "      <th>999999</th>\n",
       "      <td>Nestle Purelife 16oz</td>\n",
       "      <td>Beverage Water</td>\n",
       "      <td>4</td>\n",
       "      <td>7.50</td>\n",
       "      <td>30.00</td>\n",
       "      <td>KHULNA</td>\n",
       "      <td>JHENAIDAH</td>\n",
       "      <td>MAHESHPUR</td>\n",
       "      <td>card</td>\n",
       "      <td>BRAC Bank Limited</td>\n",
       "    </tr>\n",
       "  </tbody>\n",
       "</table>\n",
       "<p>1000000 rows × 10 columns</p>\n",
       "</div>"
      ],
      "text/plain": [
       "                                  item_name                       desc  \\\n",
       "0                   M&M Peanut Candy 1.7 oz           Food - Chocolate   \n",
       "1                             Red Bull 16oz  Beverage - Energy/Protein   \n",
       "2       Fiber One 90 Calorie Fudge Brownies             Food - Healthy   \n",
       "3              Lance Variety Cracker Packs               Food - Snacks   \n",
       "4        Kellogg's Cereals Assortment Pack               Food - Sweets   \n",
       "...                                     ...                        ...   \n",
       "999995      Welch's 100% Juice Variety10 oz           Beverage - Juice   \n",
       "999996         Fresca Original - 12 oz cans         a. Beverage - Soda   \n",
       "999997         Fresca Original - 12 oz cans         a. Beverage - Soda   \n",
       "999998              Strong Everyday Napkins           Kitchen Supplies   \n",
       "999999                Nestle Purelife 16oz              Beverage Water   \n",
       "\n",
       "        quantity  unit_price  total_price    division    district    upazila  \\\n",
       "0              1       35.00        35.00       DHAKA    JAMALPUR   ISLAMPUR   \n",
       "1             11       37.00       407.00  CHITTAGONG  CHITTAGONG    ANOWARA   \n",
       "2              8       16.00       128.00       DHAKA     RAJBARI  KALUKHALI   \n",
       "3              8       13.50       108.00       DHAKA   NETRAKONA   BARHATTA   \n",
       "4              9       13.00       117.00     BARISAL       BHOLA   LALMOHAN   \n",
       "...          ...         ...          ...         ...         ...        ...   \n",
       "999995         8       17.00       136.00       DHAKA       DHAKA    PALLABI   \n",
       "999996         1        6.75         6.75       DHAKA       DHAKA   GENDARIA   \n",
       "999997         2        6.75        13.50       DHAKA       DHAKA      SAVAR   \n",
       "999998        11       14.00       154.00     BARISAL   JHALOKATI    RAJAPUR   \n",
       "999999         4        7.50        30.00      KHULNA   JHENAIDAH  MAHESHPUR   \n",
       "\n",
       "       trans_type                   bank_name  \n",
       "0            card        Premier Bank Limited  \n",
       "1            cash                        None  \n",
       "2            card   Mutual Trust Bank Limited  \n",
       "3            card        Eastern Bank Limited  \n",
       "4            card  United Commercial Bank Ltd  \n",
       "...           ...                         ...  \n",
       "999995       card  United Commercial Bank Ltd  \n",
       "999996     mobile                       Bkash  \n",
       "999997       card        Eastern Bank Limited  \n",
       "999998       card           BRAC Bank Limited  \n",
       "999999       card           BRAC Bank Limited  \n",
       "\n",
       "[1000000 rows x 10 columns]"
      ]
     },
     "execution_count": 264,
     "metadata": {},
     "output_type": "execute_result"
    }
   ],
   "source": [
    "transactions"
   ]
  },
  {
   "cell_type": "code",
   "execution_count": 268,
   "id": "d9a4b95e",
   "metadata": {},
   "outputs": [],
   "source": [
    "transaction_type = transactions.groupby('trans_type')['total_price'].sum().sort_values(ascending=False).reset_index()"
   ]
  },
  {
   "cell_type": "code",
   "execution_count": 274,
   "id": "88798fc3",
   "metadata": {},
   "outputs": [],
   "source": [
    "transaction_type['%'] = ((transaction_type['total_price']/ transaction_type['total_price'].sum())*100).round(2)"
   ]
  },
  {
   "cell_type": "code",
   "execution_count": 275,
   "id": "18911ce5",
   "metadata": {},
   "outputs": [
    {
     "data": {
      "text/html": [
       "<div>\n",
       "<style scoped>\n",
       "    .dataframe tbody tr th:only-of-type {\n",
       "        vertical-align: middle;\n",
       "    }\n",
       "\n",
       "    .dataframe tbody tr th {\n",
       "        vertical-align: top;\n",
       "    }\n",
       "\n",
       "    .dataframe thead th {\n",
       "        text-align: right;\n",
       "    }\n",
       "</style>\n",
       "<table border=\"1\" class=\"dataframe\">\n",
       "  <thead>\n",
       "    <tr style=\"text-align: right;\">\n",
       "      <th></th>\n",
       "      <th>trans_type</th>\n",
       "      <th>total_price</th>\n",
       "      <th>%</th>\n",
       "    </tr>\n",
       "  </thead>\n",
       "  <tbody>\n",
       "    <tr>\n",
       "      <th>0</th>\n",
       "      <td>card</td>\n",
       "      <td>94583038.50</td>\n",
       "      <td>89.74</td>\n",
       "    </tr>\n",
       "    <tr>\n",
       "      <th>1</th>\n",
       "      <td>mobile</td>\n",
       "      <td>8109881.50</td>\n",
       "      <td>7.69</td>\n",
       "    </tr>\n",
       "    <tr>\n",
       "      <th>2</th>\n",
       "      <td>cash</td>\n",
       "      <td>2708515.75</td>\n",
       "      <td>2.57</td>\n",
       "    </tr>\n",
       "  </tbody>\n",
       "</table>\n",
       "</div>"
      ],
      "text/plain": [
       "  trans_type  total_price      %\n",
       "0       card  94583038.50  89.74\n",
       "1     mobile   8109881.50   7.69\n",
       "2       cash   2708515.75   2.57"
      ]
     },
     "execution_count": 275,
     "metadata": {},
     "output_type": "execute_result"
    }
   ],
   "source": [
    "transaction_type"
   ]
  },
  {
   "cell_type": "code",
   "execution_count": 280,
   "id": "3b16acc0",
   "metadata": {},
   "outputs": [
    {
     "data": {
      "image/png": "[encoded data removed]",
      "text/plain": [
       "<Figure size 500x300 with 1 Axes>"
      ]
     },
     "metadata": {},
     "output_type": "display_data"
    }
   ],
   "source": [
    "plt.figure(figsize=(5,3))\n",
    "\n",
    "x = transaction_type['trans_type']\n",
    "y = transaction_type['%']\n",
    "\n",
    "plt.bar(x,y, width=0.4)\n",
    "plt.xlabel('Type of Transaction')\n",
    "plt.ylabel('% of total transactions')\n",
    "plt.title('Transaction type/ Revenue generated')\n",
    "plt.show()"
   ]
  },
  {
   "cell_type": "code",
   "execution_count": 282,
   "id": "8af79aca",
   "metadata": {},
   "outputs": [],
   "source": [
    "banks = transactions[transactions['trans_type'] == 'card']"
   ]
  },
  {
   "cell_type": "code",
   "execution_count": 283,
   "id": "65246ad5",
   "metadata": {},
   "outputs": [],
   "source": [
    "fav_bank = banks.groupby('bank_name')['total_price'].sum().sort_values(ascending=False).reset_index()"
   ]
  },
  {
   "cell_type": "code",
   "execution_count": null,
   "id": "bb886903",
   "metadata": {},
   "outputs": [],
   "source": [
    "fav_bank"
   ]
  },
  {
   "cell_type": "code",
   "execution_count": 285,
   "id": "5f55bb57",
   "metadata": {},
   "outputs": [],
   "source": [
    "fav_bank['%'] = ((fav_bank['total_price']/ fav_bank['total_price'].sum())*100).round(2)"
   ]
  },
  {
   "cell_type": "code",
   "execution_count": 286,
   "id": "362af981",
   "metadata": {},
   "outputs": [
    {
     "data": {
      "text/html": [
       "<div>\n",
       "<style scoped>\n",
       "    .dataframe tbody tr th:only-of-type {\n",
       "        vertical-align: middle;\n",
       "    }\n",
       "\n",
       "    .dataframe tbody tr th {\n",
       "        vertical-align: top;\n",
       "    }\n",
       "\n",
       "    .dataframe thead th {\n",
       "        text-align: right;\n",
       "    }\n",
       "</style>\n",
       "<table border=\"1\" class=\"dataframe\">\n",
       "  <thead>\n",
       "    <tr style=\"text-align: right;\">\n",
       "      <th></th>\n",
       "      <th>bank_name</th>\n",
       "      <th>total_price</th>\n",
       "      <th>%</th>\n",
       "    </tr>\n",
       "  </thead>\n",
       "  <tbody>\n",
       "    <tr>\n",
       "      <th>0</th>\n",
       "      <td>Bangladesh Commerce Bank Limited</td>\n",
       "      <td>2730999.25</td>\n",
       "      <td>2.89</td>\n",
       "    </tr>\n",
       "    <tr>\n",
       "      <th>1</th>\n",
       "      <td>AB Bank Limited</td>\n",
       "      <td>2728515.50</td>\n",
       "      <td>2.88</td>\n",
       "    </tr>\n",
       "    <tr>\n",
       "      <th>2</th>\n",
       "      <td>Dhaka Bank Limited</td>\n",
       "      <td>2728366.00</td>\n",
       "      <td>2.88</td>\n",
       "    </tr>\n",
       "    <tr>\n",
       "      <th>3</th>\n",
       "      <td>South Bangla Agriculture and Commerce Bank Lim...</td>\n",
       "      <td>2728115.25</td>\n",
       "      <td>2.88</td>\n",
       "    </tr>\n",
       "    <tr>\n",
       "      <th>4</th>\n",
       "      <td>Standard Bank Limited</td>\n",
       "      <td>2727661.00</td>\n",
       "      <td>2.88</td>\n",
       "    </tr>\n",
       "    <tr>\n",
       "      <th>5</th>\n",
       "      <td>National Credit &amp; Commerce Bank Limited</td>\n",
       "      <td>2723363.00</td>\n",
       "      <td>2.88</td>\n",
       "    </tr>\n",
       "    <tr>\n",
       "      <th>6</th>\n",
       "      <td>Citizens Bank Limited</td>\n",
       "      <td>2723215.25</td>\n",
       "      <td>2.88</td>\n",
       "    </tr>\n",
       "    <tr>\n",
       "      <th>7</th>\n",
       "      <td>Trust Bank Limited</td>\n",
       "      <td>2720807.00</td>\n",
       "      <td>2.88</td>\n",
       "    </tr>\n",
       "    <tr>\n",
       "      <th>8</th>\n",
       "      <td>Modhumoti Bank Limited</td>\n",
       "      <td>2715279.00</td>\n",
       "      <td>2.87</td>\n",
       "    </tr>\n",
       "    <tr>\n",
       "      <th>9</th>\n",
       "      <td>City Bank Limited</td>\n",
       "      <td>2713952.50</td>\n",
       "      <td>2.87</td>\n",
       "    </tr>\n",
       "    <tr>\n",
       "      <th>10</th>\n",
       "      <td>NRB Bank Limited</td>\n",
       "      <td>2711595.25</td>\n",
       "      <td>2.87</td>\n",
       "    </tr>\n",
       "    <tr>\n",
       "      <th>11</th>\n",
       "      <td>Padma Bank Limited</td>\n",
       "      <td>2708084.25</td>\n",
       "      <td>2.86</td>\n",
       "    </tr>\n",
       "    <tr>\n",
       "      <th>12</th>\n",
       "      <td>Uttara Bank Limited</td>\n",
       "      <td>2707120.00</td>\n",
       "      <td>2.86</td>\n",
       "    </tr>\n",
       "    <tr>\n",
       "      <th>13</th>\n",
       "      <td>BRAC Bank Limited</td>\n",
       "      <td>2705795.75</td>\n",
       "      <td>2.86</td>\n",
       "    </tr>\n",
       "    <tr>\n",
       "      <th>14</th>\n",
       "      <td>Bengal Commercial Bank Ltd</td>\n",
       "      <td>2704554.25</td>\n",
       "      <td>2.86</td>\n",
       "    </tr>\n",
       "    <tr>\n",
       "      <th>15</th>\n",
       "      <td>Meghna Bank Limited</td>\n",
       "      <td>2700528.50</td>\n",
       "      <td>2.86</td>\n",
       "    </tr>\n",
       "    <tr>\n",
       "      <th>16</th>\n",
       "      <td>NRB Global Bank Ltd</td>\n",
       "      <td>2700088.00</td>\n",
       "      <td>2.85</td>\n",
       "    </tr>\n",
       "    <tr>\n",
       "      <th>17</th>\n",
       "      <td>IFIC Bank Limited</td>\n",
       "      <td>2699759.75</td>\n",
       "      <td>2.85</td>\n",
       "    </tr>\n",
       "    <tr>\n",
       "      <th>18</th>\n",
       "      <td>Prime Bank Limited</td>\n",
       "      <td>2698896.50</td>\n",
       "      <td>2.85</td>\n",
       "    </tr>\n",
       "    <tr>\n",
       "      <th>19</th>\n",
       "      <td>National Bank Limited</td>\n",
       "      <td>2697294.25</td>\n",
       "      <td>2.85</td>\n",
       "    </tr>\n",
       "    <tr>\n",
       "      <th>20</th>\n",
       "      <td>United Commercial Bank Ltd</td>\n",
       "      <td>2696854.75</td>\n",
       "      <td>2.85</td>\n",
       "    </tr>\n",
       "    <tr>\n",
       "      <th>21</th>\n",
       "      <td>Dutch-Bangla Bank Limited</td>\n",
       "      <td>2692435.25</td>\n",
       "      <td>2.85</td>\n",
       "    </tr>\n",
       "    <tr>\n",
       "      <th>22</th>\n",
       "      <td>One Bank Limited</td>\n",
       "      <td>2692043.25</td>\n",
       "      <td>2.85</td>\n",
       "    </tr>\n",
       "    <tr>\n",
       "      <th>23</th>\n",
       "      <td>NRB Commercial Bank Ltd</td>\n",
       "      <td>2692016.25</td>\n",
       "      <td>2.85</td>\n",
       "    </tr>\n",
       "    <tr>\n",
       "      <th>24</th>\n",
       "      <td>Southeast Bank Limited</td>\n",
       "      <td>2691275.75</td>\n",
       "      <td>2.85</td>\n",
       "    </tr>\n",
       "    <tr>\n",
       "      <th>25</th>\n",
       "      <td>Premier Bank Limited</td>\n",
       "      <td>2690828.00</td>\n",
       "      <td>2.84</td>\n",
       "    </tr>\n",
       "    <tr>\n",
       "      <th>26</th>\n",
       "      <td>Jamuna Bank Limited</td>\n",
       "      <td>2689886.50</td>\n",
       "      <td>2.84</td>\n",
       "    </tr>\n",
       "    <tr>\n",
       "      <th>27</th>\n",
       "      <td>Midland Bank Limited</td>\n",
       "      <td>2688430.25</td>\n",
       "      <td>2.84</td>\n",
       "    </tr>\n",
       "    <tr>\n",
       "      <th>28</th>\n",
       "      <td>Eastern Bank Limited</td>\n",
       "      <td>2687182.25</td>\n",
       "      <td>2.84</td>\n",
       "    </tr>\n",
       "    <tr>\n",
       "      <th>29</th>\n",
       "      <td>Bank Asia Limited</td>\n",
       "      <td>2687142.75</td>\n",
       "      <td>2.84</td>\n",
       "    </tr>\n",
       "    <tr>\n",
       "      <th>30</th>\n",
       "      <td>Shimanto Bank Ltd</td>\n",
       "      <td>2685805.25</td>\n",
       "      <td>2.84</td>\n",
       "    </tr>\n",
       "    <tr>\n",
       "      <th>31</th>\n",
       "      <td>Community Bank Bangladesh Limited</td>\n",
       "      <td>2685751.50</td>\n",
       "      <td>2.84</td>\n",
       "    </tr>\n",
       "    <tr>\n",
       "      <th>32</th>\n",
       "      <td>Pubali Bank Limited</td>\n",
       "      <td>2682787.50</td>\n",
       "      <td>2.84</td>\n",
       "    </tr>\n",
       "    <tr>\n",
       "      <th>33</th>\n",
       "      <td>Mercantile Bank Limited</td>\n",
       "      <td>2676578.50</td>\n",
       "      <td>2.83</td>\n",
       "    </tr>\n",
       "    <tr>\n",
       "      <th>34</th>\n",
       "      <td>Mutual Trust Bank Limited</td>\n",
       "      <td>2670030.50</td>\n",
       "      <td>2.82</td>\n",
       "    </tr>\n",
       "  </tbody>\n",
       "</table>\n",
       "</div>"
      ],
      "text/plain": [
       "                                            bank_name  total_price     %\n",
       "0                    Bangladesh Commerce Bank Limited   2730999.25  2.89\n",
       "1                                     AB Bank Limited   2728515.50  2.88\n",
       "2                                  Dhaka Bank Limited   2728366.00  2.88\n",
       "3   South Bangla Agriculture and Commerce Bank Lim...   2728115.25  2.88\n",
       "4                               Standard Bank Limited   2727661.00  2.88\n",
       "5             National Credit & Commerce Bank Limited   2723363.00  2.88\n",
       "6                               Citizens Bank Limited   2723215.25  2.88\n",
       "7                                  Trust Bank Limited   2720807.00  2.88\n",
       "8                              Modhumoti Bank Limited   2715279.00  2.87\n",
       "9                                   City Bank Limited   2713952.50  2.87\n",
       "10                                   NRB Bank Limited   2711595.25  2.87\n",
       "11                                 Padma Bank Limited   2708084.25  2.86\n",
       "12                                Uttara Bank Limited   2707120.00  2.86\n",
       "13                                  BRAC Bank Limited   2705795.75  2.86\n",
       "14                         Bengal Commercial Bank Ltd   2704554.25  2.86\n",
       "15                                Meghna Bank Limited   2700528.50  2.86\n",
       "16                                NRB Global Bank Ltd   2700088.00  2.85\n",
       "17                                  IFIC Bank Limited   2699759.75  2.85\n",
       "18                                 Prime Bank Limited   2698896.50  2.85\n",
       "19                              National Bank Limited   2697294.25  2.85\n",
       "20                         United Commercial Bank Ltd   2696854.75  2.85\n",
       "21                          Dutch-Bangla Bank Limited   2692435.25  2.85\n",
       "22                                   One Bank Limited   2692043.25  2.85\n",
       "23                            NRB Commercial Bank Ltd   2692016.25  2.85\n",
       "24                             Southeast Bank Limited   2691275.75  2.85\n",
       "25                               Premier Bank Limited   2690828.00  2.84\n",
       "26                                Jamuna Bank Limited   2689886.50  2.84\n",
       "27                               Midland Bank Limited   2688430.25  2.84\n",
       "28                               Eastern Bank Limited   2687182.25  2.84\n",
       "29                                  Bank Asia Limited   2687142.75  2.84\n",
       "30                                  Shimanto Bank Ltd   2685805.25  2.84\n",
       "31                  Community Bank Bangladesh Limited   2685751.50  2.84\n",
       "32                                Pubali Bank Limited   2682787.50  2.84\n",
       "33                            Mercantile Bank Limited   2676578.50  2.83\n",
       "34                          Mutual Trust Bank Limited   2670030.50  2.82"
      ]
     },
     "execution_count": 286,
     "metadata": {},
     "output_type": "execute_result"
    }
   ],
   "source": [
    "fav_bank"
   ]
  },
  {
   "cell_type": "code",
   "execution_count": null,
   "id": "e2c00a4f",
   "metadata": {},
   "outputs": [],
   "source": [
    "# From bar chart above it is obvious (though expected) that customers preffer transactions via card (almost 90%) than any other \n",
    "# type. Regarding banks, from the total of 37 banks it seems that all of them have an equal part in the transaction pool (~2.8%)\n",
    "# Since bank of prefference is not an issue we can start parterships with multiple banks to so we can offer our customers\n",
    "# incentives or rewards if they use specific cards. This way it is possible that we can expand our audience even more."
   ]
  },
  {
   "cell_type": "code",
   "execution_count": 327,
   "id": "07aa4fea",
   "metadata": {},
   "outputs": [],
   "source": []
  },
  {
   "cell_type": "code",
   "execution_count": null,
   "id": "0b395239",
   "metadata": {},
   "outputs": [],
   "source": [
    "# Check for product supplier country/ location"
   ]
  },
  {
   "cell_type": "code",
   "execution_count": 343,
   "id": "cb6e6d00",
   "metadata": {},
   "outputs": [],
   "source": [
    "x = df.groupby(['man_country', 'supplier'])['total_price'].sum().sort_values(ascending=False).reset_index()"
   ]
  },
  {
   "cell_type": "code",
   "execution_count": 344,
   "id": "8e997951",
   "metadata": {},
   "outputs": [
    {
     "data": {
      "text/html": [
       "<div>\n",
       "<style scoped>\n",
       "    .dataframe tbody tr th:only-of-type {\n",
       "        vertical-align: middle;\n",
       "    }\n",
       "\n",
       "    .dataframe tbody tr th {\n",
       "        vertical-align: top;\n",
       "    }\n",
       "\n",
       "    .dataframe thead th {\n",
       "        text-align: right;\n",
       "    }\n",
       "</style>\n",
       "<table border=\"1\" class=\"dataframe\">\n",
       "  <thead>\n",
       "    <tr style=\"text-align: right;\">\n",
       "      <th></th>\n",
       "      <th>man_country</th>\n",
       "      <th>supplier</th>\n",
       "      <th>total_price</th>\n",
       "    </tr>\n",
       "  </thead>\n",
       "  <tbody>\n",
       "    <tr>\n",
       "      <th>0</th>\n",
       "      <td>Bangladesh</td>\n",
       "      <td>DENIMACH LTD</td>\n",
       "      <td>13337300.50</td>\n",
       "    </tr>\n",
       "    <tr>\n",
       "      <th>1</th>\n",
       "      <td>India</td>\n",
       "      <td>Indo Count Industries Ltd</td>\n",
       "      <td>13159323.25</td>\n",
       "    </tr>\n",
       "    <tr>\n",
       "      <th>2</th>\n",
       "      <td>Lithuania</td>\n",
       "      <td>BIGSO AB</td>\n",
       "      <td>11746920.00</td>\n",
       "    </tr>\n",
       "    <tr>\n",
       "      <th>3</th>\n",
       "      <td>poland</td>\n",
       "      <td>CHROMADURLIN S.A.S</td>\n",
       "      <td>10976287.50</td>\n",
       "    </tr>\n",
       "    <tr>\n",
       "      <th>4</th>\n",
       "      <td>Germany</td>\n",
       "      <td>Friedola 1888 GmbH</td>\n",
       "      <td>10957102.25</td>\n",
       "    </tr>\n",
       "    <tr>\n",
       "      <th>5</th>\n",
       "      <td>Netherlands</td>\n",
       "      <td>Bolsius Boxmeer</td>\n",
       "      <td>10458204.00</td>\n",
       "    </tr>\n",
       "    <tr>\n",
       "      <th>6</th>\n",
       "      <td>United States</td>\n",
       "      <td>MAESA SAS</td>\n",
       "      <td>9892983.50</td>\n",
       "    </tr>\n",
       "    <tr>\n",
       "      <th>7</th>\n",
       "      <td>Cambodia</td>\n",
       "      <td>NINGBO SEDUNO IMP &amp; EXP CO.LTD</td>\n",
       "      <td>9463861.50</td>\n",
       "    </tr>\n",
       "    <tr>\n",
       "      <th>8</th>\n",
       "      <td>Finland</td>\n",
       "      <td>HARDFORD AB</td>\n",
       "      <td>9416792.25</td>\n",
       "    </tr>\n",
       "    <tr>\n",
       "      <th>9</th>\n",
       "      <td>China</td>\n",
       "      <td>CHERRY GROUP CO.,LTD</td>\n",
       "      <td>5992661.00</td>\n",
       "    </tr>\n",
       "  </tbody>\n",
       "</table>\n",
       "</div>"
      ],
      "text/plain": [
       "     man_country                        supplier  total_price\n",
       "0     Bangladesh                    DENIMACH LTD  13337300.50\n",
       "1          India       Indo Count Industries Ltd  13159323.25\n",
       "2      Lithuania                        BIGSO AB  11746920.00\n",
       "3         poland              CHROMADURLIN S.A.S  10976287.50\n",
       "4        Germany              Friedola 1888 GmbH  10957102.25\n",
       "5    Netherlands                 Bolsius Boxmeer  10458204.00\n",
       "6  United States                       MAESA SAS   9892983.50\n",
       "7       Cambodia  NINGBO SEDUNO IMP & EXP CO.LTD   9463861.50\n",
       "8        Finland                     HARDFORD AB   9416792.25\n",
       "9          China            CHERRY GROUP CO.,LTD   5992661.00"
      ]
     },
     "execution_count": 344,
     "metadata": {},
     "output_type": "execute_result"
    }
   ],
   "source": [
    "x"
   ]
  },
  {
   "cell_type": "code",
   "execution_count": 345,
   "id": "ec14c3a5",
   "metadata": {},
   "outputs": [
    {
     "data": {
      "image/png": "[encoded data removed]",
      "text/plain": [
       "<Figure size 600x400 with 1 Axes>"
      ]
     },
     "metadata": {},
     "output_type": "display_data"
    }
   ],
   "source": [
    "plt.figure(figsize=(6,4))\n",
    "\n",
    "x1 = x['man_country']\n",
    "y1 = x['total_price']\n",
    "\n",
    "plt.bar(x1,y1)\n",
    "plt.xlabel('Manufacturing Countries')\n",
    "plt.xticks(rotation=45)\n",
    "plt.ylabel('Total Revenue (M$)')\n",
    "plt.title('Manuf. Country/ Revenue generated')\n",
    "plt.show()"
   ]
  },
  {
   "cell_type": "code",
   "execution_count": null,
   "id": "a8e85e28",
   "metadata": {},
   "outputs": [],
   "source": [
    "# Data shows that preffered suppliers come from Bangladesh (local supplier) or India (neighbouring country). For some particular\n",
    "# and specialized products China & Finland are in play but with smaller percentages. Sticking to local or close proximity \n",
    "# suppliers can reduce shipping costs and time which can lead to potential increased profit margin.\n",
    "# Also emphasising at local sourcing can appeal and attract consumers who value supporting local economies and sustainable \n",
    "# practices."
   ]
  },
  {
   "cell_type": "code",
   "execution_count": 333,
   "id": "93b33edc",
   "metadata": {},
   "outputs": [],
   "source": []
  },
  {
   "cell_type": "code",
   "execution_count": null,
   "id": "d7d4997a",
   "metadata": {},
   "outputs": [],
   "source": []
  }
 ],
 "metadata": {
  "kernelspec": {
   "display_name": "Python 3 (ipykernel)",
   "language": "python",
   "name": "python3"
  },
  "language_info": {
   "codemirror_mode": {
    "name": "ipython",
    "version": 3
   },
   "file_extension": ".py",
   "mimetype": "text/x-python",
   "name": "python",
   "nbconvert_exporter": "python",
   "pygments_lexer": "ipython3",
   "version": "3.9.17"
  }
 },
 "nbformat": 4,
 "nbformat_minor": 5
}
